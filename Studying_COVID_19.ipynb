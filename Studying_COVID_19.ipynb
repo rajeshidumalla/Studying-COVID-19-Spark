{
  "nbformat": 4,
  "nbformat_minor": 0,
  "metadata": {
    "colab": {
      "name": "Studying COVID-19.ipynb",
      "provenance": [],
      "collapsed_sections": []
    },
    "kernelspec": {
      "display_name": "Python 3",
      "language": "python",
      "name": "python3"
    },
    "language_info": {
      "codemirror_mode": {
        "name": "ipython",
        "version": 3
      },
      "file_extension": ".py",
      "mimetype": "text/x-python",
      "name": "python",
      "nbconvert_exporter": "python",
      "pygments_lexer": "ipython3",
      "version": "3.8.8"
    }
  },
  "cells": [
    {
      "cell_type": "markdown",
      "metadata": {
        "id": "kPt5q27L5557"
      },
      "source": [
        "# Studying COVID-19"
      ]
    },
    {
      "cell_type": "markdown",
      "metadata": {
        "id": "p0-YhEpP_Ds-"
      },
      "source": [
        "### Setup"
      ]
    },
    {
      "cell_type": "markdown",
      "metadata": {
        "id": "Zsj5WYpR9QId"
      },
      "source": [
        "Let's setup Spark Colab environment.  Run the cell below!"
      ]
    },
    {
      "cell_type": "code",
      "metadata": {
        "id": "k-qHai2252mI",
        "colab": {
          "base_uri": "https://localhost:8080/"
        },
        "outputId": "295d3ca2-36e6-4aa7-ebae-adc5fba1db95"
      },
      "source": [
        "!pip install pyspark\n",
        "!pip install -U -q PyDrive\n",
        "!apt install openjdk-8-jdk-headless -qq\n",
        "import os\n",
        "os.environ[\"JAVA_HOME\"] = \"/usr/lib/jvm/java-8-openjdk-amd64\""
      ],
      "execution_count": 1,
      "outputs": [
        {
          "output_type": "stream",
          "name": "stdout",
          "text": [
            "Collecting pyspark\n",
            "  Downloading pyspark-3.1.2.tar.gz (212.4 MB)\n",
            "\u001b[K     |████████████████████████████████| 212.4 MB 64 kB/s \n",
            "\u001b[?25hCollecting py4j==0.10.9\n",
            "  Downloading py4j-0.10.9-py2.py3-none-any.whl (198 kB)\n",
            "\u001b[K     |████████████████████████████████| 198 kB 66.5 MB/s \n",
            "\u001b[?25hBuilding wheels for collected packages: pyspark\n",
            "  Building wheel for pyspark (setup.py) ... \u001b[?25l\u001b[?25hdone\n",
            "  Created wheel for pyspark: filename=pyspark-3.1.2-py2.py3-none-any.whl size=212880768 sha256=1dea60acc65211ab05e80e2f01ec83e07c4d6382bada79d8a171969d1bb30c46\n",
            "  Stored in directory: /root/.cache/pip/wheels/a5/0a/c1/9561f6fecb759579a7d863dcd846daaa95f598744e71b02c77\n",
            "Successfully built pyspark\n",
            "Installing collected packages: py4j, pyspark\n",
            "Successfully installed py4j-0.10.9 pyspark-3.1.2\n",
            "The following additional packages will be installed:\n",
            "  openjdk-8-jre-headless\n",
            "Suggested packages:\n",
            "  openjdk-8-demo openjdk-8-source libnss-mdns fonts-dejavu-extra\n",
            "  fonts-ipafont-gothic fonts-ipafont-mincho fonts-wqy-microhei\n",
            "  fonts-wqy-zenhei fonts-indic\n",
            "The following NEW packages will be installed:\n",
            "  openjdk-8-jdk-headless openjdk-8-jre-headless\n",
            "0 upgraded, 2 newly installed, 0 to remove and 37 not upgraded.\n",
            "Need to get 36.5 MB of archives.\n",
            "After this operation, 143 MB of additional disk space will be used.\n",
            "Selecting previously unselected package openjdk-8-jre-headless:amd64.\n",
            "(Reading database ... 155047 files and directories currently installed.)\n",
            "Preparing to unpack .../openjdk-8-jre-headless_8u292-b10-0ubuntu1~18.04_amd64.deb ...\n",
            "Unpacking openjdk-8-jre-headless:amd64 (8u292-b10-0ubuntu1~18.04) ...\n",
            "Selecting previously unselected package openjdk-8-jdk-headless:amd64.\n",
            "Preparing to unpack .../openjdk-8-jdk-headless_8u292-b10-0ubuntu1~18.04_amd64.deb ...\n",
            "Unpacking openjdk-8-jdk-headless:amd64 (8u292-b10-0ubuntu1~18.04) ...\n",
            "Setting up openjdk-8-jre-headless:amd64 (8u292-b10-0ubuntu1~18.04) ...\n",
            "update-alternatives: using /usr/lib/jvm/java-8-openjdk-amd64/jre/bin/orbd to provide /usr/bin/orbd (orbd) in auto mode\n",
            "update-alternatives: using /usr/lib/jvm/java-8-openjdk-amd64/jre/bin/servertool to provide /usr/bin/servertool (servertool) in auto mode\n",
            "update-alternatives: using /usr/lib/jvm/java-8-openjdk-amd64/jre/bin/tnameserv to provide /usr/bin/tnameserv (tnameserv) in auto mode\n",
            "Setting up openjdk-8-jdk-headless:amd64 (8u292-b10-0ubuntu1~18.04) ...\n",
            "update-alternatives: using /usr/lib/jvm/java-8-openjdk-amd64/bin/idlj to provide /usr/bin/idlj (idlj) in auto mode\n",
            "update-alternatives: using /usr/lib/jvm/java-8-openjdk-amd64/bin/wsimport to provide /usr/bin/wsimport (wsimport) in auto mode\n",
            "update-alternatives: using /usr/lib/jvm/java-8-openjdk-amd64/bin/jsadebugd to provide /usr/bin/jsadebugd (jsadebugd) in auto mode\n",
            "update-alternatives: using /usr/lib/jvm/java-8-openjdk-amd64/bin/native2ascii to provide /usr/bin/native2ascii (native2ascii) in auto mode\n",
            "update-alternatives: using /usr/lib/jvm/java-8-openjdk-amd64/bin/javah to provide /usr/bin/javah (javah) in auto mode\n",
            "update-alternatives: using /usr/lib/jvm/java-8-openjdk-amd64/bin/hsdb to provide /usr/bin/hsdb (hsdb) in auto mode\n",
            "update-alternatives: using /usr/lib/jvm/java-8-openjdk-amd64/bin/clhsdb to provide /usr/bin/clhsdb (clhsdb) in auto mode\n",
            "update-alternatives: using /usr/lib/jvm/java-8-openjdk-amd64/bin/extcheck to provide /usr/bin/extcheck (extcheck) in auto mode\n",
            "update-alternatives: using /usr/lib/jvm/java-8-openjdk-amd64/bin/schemagen to provide /usr/bin/schemagen (schemagen) in auto mode\n",
            "update-alternatives: using /usr/lib/jvm/java-8-openjdk-amd64/bin/xjc to provide /usr/bin/xjc (xjc) in auto mode\n",
            "update-alternatives: using /usr/lib/jvm/java-8-openjdk-amd64/bin/jhat to provide /usr/bin/jhat (jhat) in auto mode\n",
            "update-alternatives: using /usr/lib/jvm/java-8-openjdk-amd64/bin/wsgen to provide /usr/bin/wsgen (wsgen) in auto mode\n"
          ]
        }
      ]
    },
    {
      "cell_type": "markdown",
      "metadata": {
        "id": "PUUjUvXe3Sjk"
      },
      "source": [
        "Authenticating a Google Drive client to download the files we will be process on Spark job."
      ]
    },
    {
      "cell_type": "code",
      "metadata": {
        "id": "lRElWs_x2mGh"
      },
      "source": [
        "\n",
        "from pydrive.auth import GoogleAuth\n",
        "from pydrive.drive import GoogleDrive\n",
        "from google.colab import auth\n",
        "from oauth2client.client import GoogleCredentials\n",
        "\n",
        "# Authenticate and create the PyDrive client\n",
        "auth.authenticate_user()\n",
        "gauth = GoogleAuth()\n",
        "gauth.credentials = GoogleCredentials.get_application_default()\n",
        "drive = GoogleDrive(gauth)"
      ],
      "execution_count": 2,
      "outputs": []
    },
    {
      "cell_type": "code",
      "metadata": {
        "id": "QHsFTGUy2n1c"
      },
      "source": [
        "id='1YT7ttUAafCjbVdm6obeHp1TWAK0rEtoR'\n",
        "downloaded = drive.CreateFile({'id': id})\n",
        "downloaded.GetContentFile('time_series_covid19_confirmed_global.csv')\n",
        "\n",
        "id='1YxEA5UQ2EFJ_9oLssM__Gs1ncVNufGNA'\n",
        "downloaded = drive.CreateFile({'id': id})\n",
        "downloaded.GetContentFile('time_series_covid19_deaths_global.csv')\n",
        "\n",
        "id='1CNxszuZTeIw-5cF5yrzKMZdb1qV0hSoy'\n",
        "downloaded = drive.CreateFile({'id': id})\n",
        "downloaded.GetContentFile('time_series_covid19_recovered_global.csv')"
      ],
      "execution_count": 3,
      "outputs": []
    },
    {
      "cell_type": "markdown",
      "metadata": {
        "id": "qwtlO4_m_LbQ"
      },
      "source": [
        "If you executed the cells above, you should be able to see the dataset I will be using for this Colab under the \"Files\" tab on the left panel.\n",
        "\n",
        "Next, Let's import some of the common libraries needed for our task."
      ]
    },
    {
      "cell_type": "code",
      "metadata": {
        "id": "twk-K-jilWK7"
      },
      "source": [
        "import pandas as pd\n",
        "import numpy as np\n",
        "import matplotlib.pyplot as plt\n",
        "%matplotlib inline\n",
        "\n",
        "import pyspark\n",
        "from pyspark.sql import *\n",
        "from pyspark.sql.types import *\n",
        "from pyspark.sql.functions import *\n",
        "from pyspark import SparkContext, SparkConf"
      ],
      "execution_count": 13,
      "outputs": []
    },
    {
      "cell_type": "markdown",
      "metadata": {
        "id": "BtrJlMBt1Ela"
      },
      "source": [
        "Let's initialize the Spark context."
      ]
    },
    {
      "cell_type": "code",
      "metadata": {
        "id": "oj6JVFWa6pvm"
      },
      "source": [
        "sc.stop()"
      ],
      "execution_count": 15,
      "outputs": []
    },
    {
      "cell_type": "code",
      "metadata": {
        "id": "Vm3sAVeK1EDZ"
      },
      "source": [
        "# create the session\n",
        "conf = SparkConf().set(\"spark.ui.port\", \"4050\")\n",
        "\n",
        "# create the context\n",
        "sc = pyspark.SparkContext(conf=conf)\n",
        "spark = SparkSession.builder.getOrCreate()"
      ],
      "execution_count": 16,
      "outputs": []
    },
    {
      "cell_type": "markdown",
      "metadata": {
        "id": "YqovskkH1DmC"
      },
      "source": [
        "You can easily check the current version and get the link of the web interface. In the Spark UI, you can monitor the progress of your job and debug the performance bottlenecks (if your Colab is running with a **local runtime**)."
      ]
    },
    {
      "cell_type": "code",
      "metadata": {
        "id": "DueQggJc1DDk",
        "colab": {
          "base_uri": "https://localhost:8080/",
          "height": 216
        },
        "outputId": "781e8bc2-572b-457f-feac-ab760adad538"
      },
      "source": [
        "spark"
      ],
      "execution_count": 17,
      "outputs": [
        {
          "output_type": "execute_result",
          "data": {
            "text/html": [
              "\n",
              "            <div>\n",
              "                <p><b>SparkSession - in-memory</b></p>\n",
              "                \n",
              "        <div>\n",
              "            <p><b>SparkContext</b></p>\n",
              "\n",
              "            <p><a href=\"http://735ffafaa9d4:4050\">Spark UI</a></p>\n",
              "\n",
              "            <dl>\n",
              "              <dt>Version</dt>\n",
              "                <dd><code>v3.1.2</code></dd>\n",
              "              <dt>Master</dt>\n",
              "                <dd><code>local[*]</code></dd>\n",
              "              <dt>AppName</dt>\n",
              "                <dd><code>pyspark-shell</code></dd>\n",
              "            </dl>\n",
              "        </div>\n",
              "        \n",
              "            </div>\n",
              "        "
            ],
            "text/plain": [
              "<pyspark.sql.session.SparkSession at 0x7f3d195af0d0>"
            ]
          },
          "metadata": {},
          "execution_count": 17
        }
      ]
    },
    {
      "cell_type": "markdown",
      "metadata": {
        "id": "Iid7lXcG1CY8"
      },
      "source": [
        "If you are running this Colab on the Google hosted runtime, the cell below will create a *ngrok* tunnel which will allow you to still check the Spark UI."
      ]
    },
    {
      "cell_type": "code",
      "metadata": {
        "id": "sDnGLVPH1BPQ",
        "colab": {
          "base_uri": "https://localhost:8080/"
        },
        "outputId": "0b29d79f-14b0-4429-8b00-efcfe7b08c17"
      },
      "source": [
        "!wget https://bin.equinox.io/c/4VmDzA7iaHb/ngrok-stable-linux-amd64.zip\n",
        "!unzip ngrok-stable-linux-amd64.zip\n",
        "get_ipython().system_raw('./ngrok http 4050 &')\n",
        "!curl -s http://localhost:4040/api/tunnels | python3 -c \\\n",
        "    \"import sys, json; print(json.load(sys.stdin)['tunnels'][0]['public_url'])\""
      ],
      "execution_count": 18,
      "outputs": [
        {
          "output_type": "stream",
          "name": "stdout",
          "text": [
            "--2021-10-06 23:23:04--  https://bin.equinox.io/c/4VmDzA7iaHb/ngrok-stable-linux-amd64.zip\n",
            "Resolving bin.equinox.io (bin.equinox.io)... 18.205.222.128, 52.202.168.65, 54.161.241.46, ...\n",
            "Connecting to bin.equinox.io (bin.equinox.io)|18.205.222.128|:443... connected.\n",
            "HTTP request sent, awaiting response... 200 OK\n",
            "Length: 13832437 (13M) [application/octet-stream]\n",
            "Saving to: ‘ngrok-stable-linux-amd64.zip.1’\n",
            "\n",
            "ngrok-stable-linux- 100%[===================>]  13.19M  5.68MB/s    in 2.3s    \n",
            "\n",
            "2021-10-06 23:23:07 (5.68 MB/s) - ‘ngrok-stable-linux-amd64.zip.1’ saved [13832437/13832437]\n",
            "\n",
            "Archive:  ngrok-stable-linux-amd64.zip\n",
            "replace ngrok? [y]es, [n]o, [A]ll, [N]one, [r]ename: yes\n",
            "  inflating: ngrok                   \n",
            "https://1853-34-132-73-148.ngrok.io\n"
          ]
        }
      ]
    },
    {
      "cell_type": "markdown",
      "metadata": {
        "id": "kAYRX2PMm0L6"
      },
      "source": [
        "### Data Loading"
      ]
    },
    {
      "cell_type": "markdown",
      "metadata": {
        "id": "7hXdMR6wnEIM"
      },
      "source": [
        "In this Notebook, I will be analyzing the timeseries data of the Coronavirus COVID-19 Global Cases, collected by Johns Hopkins CSSE.\n",
        "\n",
        "Here you can check a realtime dashboard based on this dataset: [https://www.arcgis.com/apps/opsdashboard/index.html?fbclid=IwAR2hQKsEZ3D38wVtXGryUhP9CG0Z6MYbUM_boPEaV8FBe71wUvDPc65ZG78#/bda7594740fd40299423467b48e9ecf6](https://www.arcgis.com/apps/opsdashboard/index.html?fbclid=IwAR2hQKsEZ3D38wVtXGryUhP9CG0Z6MYbUM_boPEaV8FBe71wUvDPc65ZG78#/bda7594740fd40299423467b48e9ecf6)\n",
        "\n",
        "---\n",
        "\n",
        "\n",
        "\n",
        "*   ```confirmed```: dataframe containing the cumulative number of confirmed COVID-19 cases, divided by geographical area\n",
        "*   ```deaths```: dataframe containing the cumulative number of deaths due to COVID-19, divided by geographical area\n",
        "*   ```recovered```: dataframe containing the cumulative number of recoevered patients, divided by geographical area\n",
        "\n",
        "The data sets contain data entries for each day, representing the cumulative totals as of that day.\n",
        "\n",
        "\n",
        "\n",
        "\n",
        "\n"
      ]
    },
    {
      "cell_type": "code",
      "metadata": {
        "id": "EUSeIQlNqv6J"
      },
      "source": [
        "confirmed = spark.read.csv('time_series_covid19_confirmed_global.csv', header=True)\n",
        "deaths = spark.read.csv('time_series_covid19_deaths_global.csv', header=True)\n",
        "recovered = spark.read.csv('time_series_covid19_recovered_global.csv', header=True)"
      ],
      "execution_count": 19,
      "outputs": []
    },
    {
      "cell_type": "code",
      "metadata": {
        "id": "NvyFsE-fLXpg",
        "colab": {
          "base_uri": "https://localhost:8080/"
        },
        "outputId": "db1a6c20-ade8-4e75-fbcd-f5952592fd13"
      },
      "source": [
        "confirmed.printSchema()"
      ],
      "execution_count": 20,
      "outputs": [
        {
          "output_type": "stream",
          "name": "stdout",
          "text": [
            "root\n",
            " |-- Province/State: string (nullable = true)\n",
            " |-- Country/Region: string (nullable = true)\n",
            " |-- Lat: string (nullable = true)\n",
            " |-- Long: string (nullable = true)\n",
            " |-- 1/22/20: string (nullable = true)\n",
            " |-- 1/23/20: string (nullable = true)\n",
            " |-- 1/24/20: string (nullable = true)\n",
            " |-- 1/25/20: string (nullable = true)\n",
            " |-- 1/26/20: string (nullable = true)\n",
            " |-- 1/27/20: string (nullable = true)\n",
            " |-- 1/28/20: string (nullable = true)\n",
            " |-- 1/29/20: string (nullable = true)\n",
            " |-- 1/30/20: string (nullable = true)\n",
            " |-- 1/31/20: string (nullable = true)\n",
            " |-- 2/1/20: string (nullable = true)\n",
            " |-- 2/2/20: string (nullable = true)\n",
            " |-- 2/3/20: string (nullable = true)\n",
            " |-- 2/4/20: string (nullable = true)\n",
            " |-- 2/5/20: string (nullable = true)\n",
            " |-- 2/6/20: string (nullable = true)\n",
            " |-- 2/7/20: string (nullable = true)\n",
            " |-- 2/8/20: string (nullable = true)\n",
            " |-- 2/9/20: string (nullable = true)\n",
            " |-- 2/10/20: string (nullable = true)\n",
            " |-- 2/11/20: string (nullable = true)\n",
            " |-- 2/12/20: string (nullable = true)\n",
            " |-- 2/13/20: string (nullable = true)\n",
            " |-- 2/14/20: string (nullable = true)\n",
            " |-- 2/15/20: string (nullable = true)\n",
            " |-- 2/16/20: string (nullable = true)\n",
            " |-- 2/17/20: string (nullable = true)\n",
            " |-- 2/18/20: string (nullable = true)\n",
            " |-- 2/19/20: string (nullable = true)\n",
            " |-- 2/20/20: string (nullable = true)\n",
            " |-- 2/21/20: string (nullable = true)\n",
            " |-- 2/22/20: string (nullable = true)\n",
            " |-- 2/23/20: string (nullable = true)\n",
            " |-- 2/24/20: string (nullable = true)\n",
            " |-- 2/25/20: string (nullable = true)\n",
            " |-- 2/26/20: string (nullable = true)\n",
            " |-- 2/27/20: string (nullable = true)\n",
            " |-- 2/28/20: string (nullable = true)\n",
            " |-- 2/29/20: string (nullable = true)\n",
            " |-- 3/1/20: string (nullable = true)\n",
            " |-- 3/2/20: string (nullable = true)\n",
            " |-- 3/3/20: string (nullable = true)\n",
            " |-- 3/4/20: string (nullable = true)\n",
            " |-- 3/5/20: string (nullable = true)\n",
            " |-- 3/6/20: string (nullable = true)\n",
            " |-- 3/7/20: string (nullable = true)\n",
            " |-- 3/8/20: string (nullable = true)\n",
            " |-- 3/9/20: string (nullable = true)\n",
            " |-- 3/10/20: string (nullable = true)\n",
            " |-- 3/11/20: string (nullable = true)\n",
            " |-- 3/12/20: string (nullable = true)\n",
            " |-- 3/13/20: string (nullable = true)\n",
            " |-- 3/14/20: string (nullable = true)\n",
            " |-- 3/15/20: string (nullable = true)\n",
            " |-- 3/16/20: string (nullable = true)\n",
            " |-- 3/17/20: string (nullable = true)\n",
            " |-- 3/18/20: string (nullable = true)\n",
            " |-- 3/19/20: string (nullable = true)\n",
            " |-- 3/20/20: string (nullable = true)\n",
            " |-- 3/21/20: string (nullable = true)\n",
            " |-- 3/22/20: string (nullable = true)\n",
            " |-- 3/23/20: string (nullable = true)\n",
            " |-- 3/24/20: string (nullable = true)\n",
            " |-- 3/25/20: string (nullable = true)\n",
            " |-- 3/26/20: string (nullable = true)\n",
            " |-- 3/27/20: string (nullable = true)\n",
            " |-- 3/28/20: string (nullable = true)\n",
            " |-- 3/29/20: string (nullable = true)\n",
            " |-- 3/30/20: string (nullable = true)\n",
            " |-- 3/31/20: string (nullable = true)\n",
            " |-- 4/1/20: string (nullable = true)\n",
            " |-- 4/2/20: string (nullable = true)\n",
            " |-- 4/3/20: string (nullable = true)\n",
            " |-- 4/4/20: string (nullable = true)\n",
            " |-- 4/5/20: string (nullable = true)\n",
            " |-- 4/6/20: string (nullable = true)\n",
            " |-- 4/7/20: string (nullable = true)\n",
            " |-- 4/8/20: string (nullable = true)\n",
            " |-- 4/9/20: string (nullable = true)\n",
            " |-- 4/10/20: string (nullable = true)\n",
            " |-- 4/11/20: string (nullable = true)\n",
            " |-- 4/12/20: string (nullable = true)\n",
            " |-- 4/13/20: string (nullable = true)\n",
            " |-- 4/14/20: string (nullable = true)\n",
            " |-- 4/15/20: string (nullable = true)\n",
            " |-- 4/16/20: string (nullable = true)\n",
            " |-- 4/17/20: string (nullable = true)\n",
            " |-- 4/18/20: string (nullable = true)\n",
            " |-- 4/19/20: string (nullable = true)\n",
            " |-- 4/20/20: string (nullable = true)\n",
            " |-- 4/21/20: string (nullable = true)\n",
            " |-- 4/22/20: string (nullable = true)\n",
            " |-- 4/23/20: string (nullable = true)\n",
            " |-- 4/24/20: string (nullable = true)\n",
            " |-- 4/25/20: string (nullable = true)\n",
            " |-- 4/26/20: string (nullable = true)\n",
            " |-- 4/27/20: string (nullable = true)\n",
            " |-- 4/28/20: string (nullable = true)\n",
            " |-- 4/29/20: string (nullable = true)\n",
            " |-- 4/30/20: string (nullable = true)\n",
            " |-- 5/1/20: string (nullable = true)\n",
            " |-- 5/2/20: string (nullable = true)\n",
            " |-- 5/3/20: string (nullable = true)\n",
            " |-- 5/4/20: string (nullable = true)\n",
            " |-- 5/5/20: string (nullable = true)\n",
            " |-- 5/6/20: string (nullable = true)\n",
            " |-- 5/7/20: string (nullable = true)\n",
            " |-- 5/8/20: string (nullable = true)\n",
            " |-- 5/9/20: string (nullable = true)\n",
            " |-- 5/10/20: string (nullable = true)\n",
            " |-- 5/11/20: string (nullable = true)\n",
            " |-- 5/12/20: string (nullable = true)\n",
            " |-- 5/13/20: string (nullable = true)\n",
            " |-- 5/14/20: string (nullable = true)\n",
            " |-- 5/15/20: string (nullable = true)\n",
            " |-- 5/16/20: string (nullable = true)\n",
            " |-- 5/17/20: string (nullable = true)\n",
            " |-- 5/18/20: string (nullable = true)\n",
            " |-- 5/19/20: string (nullable = true)\n",
            " |-- 5/20/20: string (nullable = true)\n",
            " |-- 5/21/20: string (nullable = true)\n",
            " |-- 5/22/20: string (nullable = true)\n",
            " |-- 5/23/20: string (nullable = true)\n",
            " |-- 5/24/20: string (nullable = true)\n",
            " |-- 5/25/20: string (nullable = true)\n",
            " |-- 5/26/20: string (nullable = true)\n",
            " |-- 5/27/20: string (nullable = true)\n",
            " |-- 5/28/20: string (nullable = true)\n",
            " |-- 5/29/20: string (nullable = true)\n",
            " |-- 5/30/20: string (nullable = true)\n",
            " |-- 5/31/20: string (nullable = true)\n",
            " |-- 6/1/20: string (nullable = true)\n",
            " |-- 6/2/20: string (nullable = true)\n",
            " |-- 6/3/20: string (nullable = true)\n",
            " |-- 6/4/20: string (nullable = true)\n",
            " |-- 6/5/20: string (nullable = true)\n",
            " |-- 6/6/20: string (nullable = true)\n",
            " |-- 6/7/20: string (nullable = true)\n",
            " |-- 6/8/20: string (nullable = true)\n",
            " |-- 6/9/20: string (nullable = true)\n",
            " |-- 6/10/20: string (nullable = true)\n",
            " |-- 6/11/20: string (nullable = true)\n",
            " |-- 6/12/20: string (nullable = true)\n",
            " |-- 6/13/20: string (nullable = true)\n",
            " |-- 6/14/20: string (nullable = true)\n",
            " |-- 6/15/20: string (nullable = true)\n",
            " |-- 6/16/20: string (nullable = true)\n",
            " |-- 6/17/20: string (nullable = true)\n",
            " |-- 6/18/20: string (nullable = true)\n",
            " |-- 6/19/20: string (nullable = true)\n",
            " |-- 6/20/20: string (nullable = true)\n",
            " |-- 6/21/20: string (nullable = true)\n",
            " |-- 6/22/20: string (nullable = true)\n",
            " |-- 6/23/20: string (nullable = true)\n",
            " |-- 6/24/20: string (nullable = true)\n",
            " |-- 6/25/20: string (nullable = true)\n",
            " |-- 6/26/20: string (nullable = true)\n",
            " |-- 6/27/20: string (nullable = true)\n",
            " |-- 6/28/20: string (nullable = true)\n",
            " |-- 6/29/20: string (nullable = true)\n",
            " |-- 6/30/20: string (nullable = true)\n",
            " |-- 7/1/20: string (nullable = true)\n",
            " |-- 7/2/20: string (nullable = true)\n",
            " |-- 7/3/20: string (nullable = true)\n",
            " |-- 7/4/20: string (nullable = true)\n",
            " |-- 7/5/20: string (nullable = true)\n",
            " |-- 7/6/20: string (nullable = true)\n",
            " |-- 7/7/20: string (nullable = true)\n",
            " |-- 7/8/20: string (nullable = true)\n",
            " |-- 7/9/20: string (nullable = true)\n",
            " |-- 7/10/20: string (nullable = true)\n",
            " |-- 7/11/20: string (nullable = true)\n",
            " |-- 7/12/20: string (nullable = true)\n",
            " |-- 7/13/20: string (nullable = true)\n",
            " |-- 7/14/20: string (nullable = true)\n",
            " |-- 7/15/20: string (nullable = true)\n",
            " |-- 7/16/20: string (nullable = true)\n",
            " |-- 7/17/20: string (nullable = true)\n",
            " |-- 7/18/20: string (nullable = true)\n",
            " |-- 7/19/20: string (nullable = true)\n",
            " |-- 7/20/20: string (nullable = true)\n",
            " |-- 7/21/20: string (nullable = true)\n",
            " |-- 7/22/20: string (nullable = true)\n",
            " |-- 7/23/20: string (nullable = true)\n",
            " |-- 7/24/20: string (nullable = true)\n",
            " |-- 7/25/20: string (nullable = true)\n",
            " |-- 7/26/20: string (nullable = true)\n",
            " |-- 7/27/20: string (nullable = true)\n",
            " |-- 7/28/20: string (nullable = true)\n",
            " |-- 7/29/20: string (nullable = true)\n",
            " |-- 7/30/20: string (nullable = true)\n",
            " |-- 7/31/20: string (nullable = true)\n",
            " |-- 8/1/20: string (nullable = true)\n",
            " |-- 8/2/20: string (nullable = true)\n",
            " |-- 8/3/20: string (nullable = true)\n",
            " |-- 8/4/20: string (nullable = true)\n",
            " |-- 8/5/20: string (nullable = true)\n",
            " |-- 8/6/20: string (nullable = true)\n",
            " |-- 8/7/20: string (nullable = true)\n",
            " |-- 8/8/20: string (nullable = true)\n",
            " |-- 8/9/20: string (nullable = true)\n",
            " |-- 8/10/20: string (nullable = true)\n",
            " |-- 8/11/20: string (nullable = true)\n",
            " |-- 8/12/20: string (nullable = true)\n",
            " |-- 8/13/20: string (nullable = true)\n",
            " |-- 8/14/20: string (nullable = true)\n",
            " |-- 8/15/20: string (nullable = true)\n",
            " |-- 8/16/20: string (nullable = true)\n",
            " |-- 8/17/20: string (nullable = true)\n",
            " |-- 8/18/20: string (nullable = true)\n",
            " |-- 8/19/20: string (nullable = true)\n",
            " |-- 8/20/20: string (nullable = true)\n",
            " |-- 8/21/20: string (nullable = true)\n",
            " |-- 8/22/20: string (nullable = true)\n",
            " |-- 8/23/20: string (nullable = true)\n",
            " |-- 8/24/20: string (nullable = true)\n",
            " |-- 8/25/20: string (nullable = true)\n",
            " |-- 8/26/20: string (nullable = true)\n",
            " |-- 8/27/20: string (nullable = true)\n",
            " |-- 8/28/20: string (nullable = true)\n",
            " |-- 8/29/20: string (nullable = true)\n",
            " |-- 8/30/20: string (nullable = true)\n",
            " |-- 8/31/20: string (nullable = true)\n",
            " |-- 9/1/20: string (nullable = true)\n",
            " |-- 9/2/20: string (nullable = true)\n",
            " |-- 9/3/20: string (nullable = true)\n",
            " |-- 9/4/20: string (nullable = true)\n",
            " |-- 9/5/20: string (nullable = true)\n",
            " |-- 9/6/20: string (nullable = true)\n",
            " |-- 9/7/20: string (nullable = true)\n",
            " |-- 9/8/20: string (nullable = true)\n",
            " |-- 9/9/20: string (nullable = true)\n",
            " |-- 9/10/20: string (nullable = true)\n",
            " |-- 9/11/20: string (nullable = true)\n",
            " |-- 9/12/20: string (nullable = true)\n",
            " |-- 9/13/20: string (nullable = true)\n",
            " |-- 9/14/20: string (nullable = true)\n",
            " |-- 9/15/20: string (nullable = true)\n",
            " |-- 9/16/20: string (nullable = true)\n",
            " |-- 9/17/20: string (nullable = true)\n",
            " |-- 9/18/20: string (nullable = true)\n",
            " |-- 9/19/20: string (nullable = true)\n",
            " |-- 9/20/20: string (nullable = true)\n",
            " |-- 9/21/20: string (nullable = true)\n",
            " |-- 9/22/20: string (nullable = true)\n",
            " |-- 9/23/20: string (nullable = true)\n",
            " |-- 9/24/20: string (nullable = true)\n",
            " |-- 9/25/20: string (nullable = true)\n",
            " |-- 9/26/20: string (nullable = true)\n",
            " |-- 9/27/20: string (nullable = true)\n",
            " |-- 9/28/20: string (nullable = true)\n",
            " |-- 9/29/20: string (nullable = true)\n",
            " |-- 9/30/20: string (nullable = true)\n",
            " |-- 10/1/20: string (nullable = true)\n",
            " |-- 10/2/20: string (nullable = true)\n",
            " |-- 10/3/20: string (nullable = true)\n",
            " |-- 10/4/20: string (nullable = true)\n",
            " |-- 10/5/20: string (nullable = true)\n",
            " |-- 10/6/20: string (nullable = true)\n",
            " |-- 10/7/20: string (nullable = true)\n",
            " |-- 10/8/20: string (nullable = true)\n",
            " |-- 10/9/20: string (nullable = true)\n",
            " |-- 10/10/20: string (nullable = true)\n",
            " |-- 10/11/20: string (nullable = true)\n",
            " |-- 10/12/20: string (nullable = true)\n",
            " |-- 10/13/20: string (nullable = true)\n",
            " |-- 10/14/20: string (nullable = true)\n",
            " |-- 10/15/20: string (nullable = true)\n",
            " |-- 10/16/20: string (nullable = true)\n",
            " |-- 10/17/20: string (nullable = true)\n",
            " |-- 10/18/20: string (nullable = true)\n",
            " |-- 10/19/20: string (nullable = true)\n",
            " |-- 10/20/20: string (nullable = true)\n",
            " |-- 10/21/20: string (nullable = true)\n",
            " |-- 10/22/20: string (nullable = true)\n",
            " |-- 10/23/20: string (nullable = true)\n",
            " |-- 10/24/20: string (nullable = true)\n",
            " |-- 10/25/20: string (nullable = true)\n",
            " |-- 10/26/20: string (nullable = true)\n",
            " |-- 10/27/20: string (nullable = true)\n",
            " |-- 10/28/20: string (nullable = true)\n",
            " |-- 10/29/20: string (nullable = true)\n",
            " |-- 10/30/20: string (nullable = true)\n",
            " |-- 10/31/20: string (nullable = true)\n",
            " |-- 11/1/20: string (nullable = true)\n",
            " |-- 11/2/20: string (nullable = true)\n",
            " |-- 11/3/20: string (nullable = true)\n",
            " |-- 11/4/20: string (nullable = true)\n",
            " |-- 11/5/20: string (nullable = true)\n",
            " |-- 11/6/20: string (nullable = true)\n",
            " |-- 11/7/20: string (nullable = true)\n",
            " |-- 11/8/20: string (nullable = true)\n",
            " |-- 11/9/20: string (nullable = true)\n",
            " |-- 11/10/20: string (nullable = true)\n",
            " |-- 11/11/20: string (nullable = true)\n",
            " |-- 11/12/20: string (nullable = true)\n",
            " |-- 11/13/20: string (nullable = true)\n",
            " |-- 11/14/20: string (nullable = true)\n",
            " |-- 11/15/20: string (nullable = true)\n",
            " |-- 11/16/20: string (nullable = true)\n",
            " |-- 11/17/20: string (nullable = true)\n",
            " |-- 11/18/20: string (nullable = true)\n",
            " |-- 11/19/20: string (nullable = true)\n",
            " |-- 11/20/20: string (nullable = true)\n",
            " |-- 11/21/20: string (nullable = true)\n",
            " |-- 11/22/20: string (nullable = true)\n",
            " |-- 11/23/20: string (nullable = true)\n",
            " |-- 11/24/20: string (nullable = true)\n",
            " |-- 11/25/20: string (nullable = true)\n",
            " |-- 11/26/20: string (nullable = true)\n",
            " |-- 11/27/20: string (nullable = true)\n",
            " |-- 11/28/20: string (nullable = true)\n",
            " |-- 11/29/20: string (nullable = true)\n",
            " |-- 11/30/20: string (nullable = true)\n",
            " |-- 12/1/20: string (nullable = true)\n",
            " |-- 12/2/20: string (nullable = true)\n",
            " |-- 12/3/20: string (nullable = true)\n",
            " |-- 12/4/20: string (nullable = true)\n",
            " |-- 12/5/20: string (nullable = true)\n",
            " |-- 12/6/20: string (nullable = true)\n",
            " |-- 12/7/20: string (nullable = true)\n",
            " |-- 12/8/20: string (nullable = true)\n",
            " |-- 12/9/20: string (nullable = true)\n",
            " |-- 12/10/20: string (nullable = true)\n",
            " |-- 12/11/20: string (nullable = true)\n",
            " |-- 12/12/20: string (nullable = true)\n",
            " |-- 12/13/20: string (nullable = true)\n",
            " |-- 12/14/20: string (nullable = true)\n",
            " |-- 12/15/20: string (nullable = true)\n",
            " |-- 12/16/20: string (nullable = true)\n",
            " |-- 12/17/20: string (nullable = true)\n",
            " |-- 12/18/20: string (nullable = true)\n",
            " |-- 12/19/20: string (nullable = true)\n",
            " |-- 12/20/20: string (nullable = true)\n",
            " |-- 12/21/20: string (nullable = true)\n",
            " |-- 12/22/20: string (nullable = true)\n",
            " |-- 12/23/20: string (nullable = true)\n",
            " |-- 12/24/20: string (nullable = true)\n",
            " |-- 12/25/20: string (nullable = true)\n",
            " |-- 12/26/20: string (nullable = true)\n",
            " |-- 12/27/20: string (nullable = true)\n",
            " |-- 12/28/20: string (nullable = true)\n",
            " |-- 12/29/20: string (nullable = true)\n",
            " |-- 12/30/20: string (nullable = true)\n",
            " |-- 12/31/20: string (nullable = true)\n",
            " |-- 1/1/21: string (nullable = true)\n",
            " |-- 1/2/21: string (nullable = true)\n",
            " |-- 1/3/21: string (nullable = true)\n",
            " |-- 1/4/21: string (nullable = true)\n",
            " |-- 1/5/21: string (nullable = true)\n",
            " |-- 1/6/21: string (nullable = true)\n",
            " |-- 1/7/21: string (nullable = true)\n",
            " |-- 1/8/21: string (nullable = true)\n",
            " |-- 1/9/21: string (nullable = true)\n",
            " |-- 1/10/21: string (nullable = true)\n",
            " |-- 1/11/21: string (nullable = true)\n",
            " |-- 1/12/21: string (nullable = true)\n",
            " |-- 1/13/21: string (nullable = true)\n",
            " |-- 1/14/21: string (nullable = true)\n",
            " |-- 1/15/21: string (nullable = true)\n",
            " |-- 1/16/21: string (nullable = true)\n",
            " |-- 1/17/21: string (nullable = true)\n",
            " |-- 1/18/21: string (nullable = true)\n",
            " |-- 1/19/21: string (nullable = true)\n",
            " |-- 1/20/21: string (nullable = true)\n",
            " |-- 1/21/21: string (nullable = true)\n",
            " |-- 1/22/21: string (nullable = true)\n",
            " |-- 1/23/21: string (nullable = true)\n",
            " |-- 1/24/21: string (nullable = true)\n",
            " |-- 1/25/21: string (nullable = true)\n",
            " |-- 1/26/21: string (nullable = true)\n",
            " |-- 1/27/21: string (nullable = true)\n",
            " |-- 1/28/21: string (nullable = true)\n",
            " |-- 1/29/21: string (nullable = true)\n",
            " |-- 1/30/21: string (nullable = true)\n",
            " |-- 1/31/21: string (nullable = true)\n",
            " |-- 2/1/21: string (nullable = true)\n",
            " |-- 2/2/21: string (nullable = true)\n",
            " |-- 2/3/21: string (nullable = true)\n",
            " |-- 2/4/21: string (nullable = true)\n",
            " |-- 2/5/21: string (nullable = true)\n",
            " |-- 2/6/21: string (nullable = true)\n",
            " |-- 2/7/21: string (nullable = true)\n",
            " |-- 2/8/21: string (nullable = true)\n",
            " |-- 2/9/21: string (nullable = true)\n",
            " |-- 2/10/21: string (nullable = true)\n",
            " |-- 2/11/21: string (nullable = true)\n",
            " |-- 2/12/21: string (nullable = true)\n",
            " |-- 2/13/21: string (nullable = true)\n",
            " |-- 2/14/21: string (nullable = true)\n",
            " |-- 2/15/21: string (nullable = true)\n",
            " |-- 2/16/21: string (nullable = true)\n",
            " |-- 2/17/21: string (nullable = true)\n",
            " |-- 2/18/21: string (nullable = true)\n",
            " |-- 2/19/21: string (nullable = true)\n",
            " |-- 2/20/21: string (nullable = true)\n",
            " |-- 2/21/21: string (nullable = true)\n",
            " |-- 2/22/21: string (nullable = true)\n",
            " |-- 2/23/21: string (nullable = true)\n",
            " |-- 2/24/21: string (nullable = true)\n",
            " |-- 2/25/21: string (nullable = true)\n",
            " |-- 2/26/21: string (nullable = true)\n",
            " |-- 2/27/21: string (nullable = true)\n",
            " |-- 2/28/21: string (nullable = true)\n",
            " |-- 3/1/21: string (nullable = true)\n",
            " |-- 3/2/21: string (nullable = true)\n",
            " |-- 3/3/21: string (nullable = true)\n",
            " |-- 3/4/21: string (nullable = true)\n",
            " |-- 3/5/21: string (nullable = true)\n",
            " |-- 3/6/21: string (nullable = true)\n",
            " |-- 3/7/21: string (nullable = true)\n",
            " |-- 3/8/21: string (nullable = true)\n",
            " |-- 3/9/21: string (nullable = true)\n",
            " |-- 3/10/21: string (nullable = true)\n",
            " |-- 3/11/21: string (nullable = true)\n",
            " |-- 3/12/21: string (nullable = true)\n",
            " |-- 3/13/21: string (nullable = true)\n",
            " |-- 3/14/21: string (nullable = true)\n",
            " |-- 3/15/21: string (nullable = true)\n",
            " |-- 3/16/21: string (nullable = true)\n",
            " |-- 3/17/21: string (nullable = true)\n",
            " |-- 3/18/21: string (nullable = true)\n",
            " |-- 3/19/21: string (nullable = true)\n",
            " |-- 3/20/21: string (nullable = true)\n",
            " |-- 3/21/21: string (nullable = true)\n",
            " |-- 3/22/21: string (nullable = true)\n",
            " |-- 3/23/21: string (nullable = true)\n",
            " |-- 3/24/21: string (nullable = true)\n",
            " |-- 3/25/21: string (nullable = true)\n",
            " |-- 3/26/21: string (nullable = true)\n",
            " |-- 3/27/21: string (nullable = true)\n",
            " |-- 3/28/21: string (nullable = true)\n",
            " |-- 3/29/21: string (nullable = true)\n",
            " |-- 3/30/21: string (nullable = true)\n",
            " |-- 3/31/21: string (nullable = true)\n",
            " |-- 4/1/21: string (nullable = true)\n",
            " |-- 4/2/21: string (nullable = true)\n",
            " |-- 4/3/21: string (nullable = true)\n",
            " |-- 4/4/21: string (nullable = true)\n",
            " |-- 4/5/21: string (nullable = true)\n",
            " |-- 4/6/21: string (nullable = true)\n",
            " |-- 4/7/21: string (nullable = true)\n",
            " |-- 4/8/21: string (nullable = true)\n",
            " |-- 4/9/21: string (nullable = true)\n",
            " |-- 4/10/21: string (nullable = true)\n",
            " |-- 4/11/21: string (nullable = true)\n",
            " |-- 4/12/21: string (nullable = true)\n",
            " |-- 4/13/21: string (nullable = true)\n",
            " |-- 4/14/21: string (nullable = true)\n",
            " |-- 4/15/21: string (nullable = true)\n",
            " |-- 4/16/21: string (nullable = true)\n",
            " |-- 4/17/21: string (nullable = true)\n",
            " |-- 4/18/21: string (nullable = true)\n",
            " |-- 4/19/21: string (nullable = true)\n",
            " |-- 4/20/21: string (nullable = true)\n",
            " |-- 4/21/21: string (nullable = true)\n",
            " |-- 4/22/21: string (nullable = true)\n",
            " |-- 4/23/21: string (nullable = true)\n",
            " |-- 4/24/21: string (nullable = true)\n",
            " |-- 4/25/21: string (nullable = true)\n",
            " |-- 4/26/21: string (nullable = true)\n",
            " |-- 4/27/21: string (nullable = true)\n",
            " |-- 4/28/21: string (nullable = true)\n",
            " |-- 4/29/21: string (nullable = true)\n",
            " |-- 4/30/21: string (nullable = true)\n",
            " |-- 5/1/21: string (nullable = true)\n",
            " |-- 5/2/21: string (nullable = true)\n",
            " |-- 5/3/21: string (nullable = true)\n",
            " |-- 5/4/21: string (nullable = true)\n",
            " |-- 5/5/21: string (nullable = true)\n",
            " |-- 5/6/21: string (nullable = true)\n",
            " |-- 5/7/21: string (nullable = true)\n",
            " |-- 5/8/21: string (nullable = true)\n",
            " |-- 5/9/21: string (nullable = true)\n",
            " |-- 5/10/21: string (nullable = true)\n",
            " |-- 5/11/21: string (nullable = true)\n",
            " |-- 5/12/21: string (nullable = true)\n",
            " |-- 5/13/21: string (nullable = true)\n",
            " |-- 5/14/21: string (nullable = true)\n",
            " |-- 5/15/21: string (nullable = true)\n",
            " |-- 5/16/21: string (nullable = true)\n",
            " |-- 5/17/21: string (nullable = true)\n",
            " |-- 5/18/21: string (nullable = true)\n",
            "\n"
          ]
        }
      ]
    },
    {
      "cell_type": "code",
      "metadata": {
        "colab": {
          "base_uri": "https://localhost:8080/"
        },
        "id": "8bpBWDDq6BOL",
        "outputId": "d2200173-775f-44af-8296-f6b74860fd62"
      },
      "source": [
        "def md5(s):\n",
        "  import hashlib\n",
        "  m = hashlib.md5()\n",
        "  m.update(s.encode())\n",
        "  return m.hexdigest()[:2]\n",
        "\n",
        "md5('3/5/20')\n",
        "confirmed.show()"
      ],
      "execution_count": 21,
      "outputs": [
        {
          "output_type": "stream",
          "name": "stdout",
          "text": [
            "+--------------------+-------------------+---------+----------+-------+-------+-------+-------+-------+-------+-------+-------+-------+-------+------+------+------+------+------+------+------+------+------+-------+-------+-------+-------+-------+-------+-------+-------+-------+-------+-------+-------+-------+-------+-------+-------+-------+-------+-------+-------+------+------+------+------+------+------+------+------+------+-------+-------+-------+-------+-------+-------+-------+-------+-------+-------+-------+-------+-------+-------+-------+-------+-------+-------+-------+-------+-------+-------+------+------+------+------+------+------+------+------+------+-------+-------+-------+-------+-------+-------+-------+-------+-------+-------+-------+-------+-------+-------+-------+-------+-------+-------+-------+-------+-------+------+------+------+------+------+------+------+------+------+-------+-------+-------+-------+-------+-------+-------+-------+-------+-------+-------+-------+-------+-------+-------+-------+-------+-------+-------+-------+-------+-------+------+------+------+------+------+------+------+------+------+-------+-------+-------+-------+-------+-------+-------+-------+-------+-------+-------+-------+-------+-------+-------+-------+-------+-------+-------+-------+-------+------+------+------+------+------+------+------+------+------+-------+-------+-------+-------+-------+-------+-------+-------+-------+-------+-------+-------+-------+-------+-------+-------+-------+-------+-------+-------+-------+-------+------+------+------+------+------+------+------+------+------+-------+-------+-------+-------+-------+-------+-------+-------+-------+-------+-------+-------+-------+-------+-------+-------+-------+-------+-------+-------+-------+-------+------+------+------+------+------+------+------+------+------+-------+-------+-------+-------+-------+-------+-------+-------+-------+-------+-------+-------+-------+-------+-------+-------+-------+-------+-------+-------+-------+-------+-------+-------+-------+-------+-------+-------+-------+-------+--------+--------+--------+--------+--------+--------+--------+--------+--------+--------+--------+--------+--------+--------+--------+--------+--------+--------+--------+--------+--------+--------+-------+-------+-------+-------+-------+-------+-------+-------+-------+--------+--------+--------+--------+--------+--------+--------+--------+--------+--------+--------+--------+--------+--------+--------+--------+--------+--------+--------+--------+--------+-------+-------+-------+-------+-------+-------+-------+-------+-------+--------+--------+--------+--------+--------+--------+--------+--------+--------+--------+--------+--------+--------+--------+--------+--------+--------+--------+--------+--------+--------+--------+-------+-------+-------+-------+-------+-------+-------+-------+-------+-------+-------+-------+-------+-------+-------+-------+-------+-------+-------+-------+-------+-------+-------+-------+-------+-------+-------+-------+-------+-------+-------+-------+-------+-------+-------+-------+-------+-------+-------+-------+-------+-------+-------+-------+-------+-------+-------+-------+-------+-------+-------+-------+-------+-------+-------+-------+-------+-------+-------+-------+-------+-------+-------+-------+-------+-------+-------+-------+-------+-------+-------+-------+-------+-------+-------+-------+-------+-------+-------+-------+-------+-------+-------+-------+-------+-------+-------+-------+-------+-------+-------+-------+-------+-------+-------+-------+-------+-------+-------+-------+-------+-------+-------+-------+-------+-------+-------+-------+-------+-------+-------+-------+-------+-------+-------+-------+-------+-------+-------+-------+-------+-------+-------+-------+-------+-------+-------+-------+-------+-------+-------+-------+-------+-------+-------+-------+-------+-------+\n",
            "|      Province/State|     Country/Region|      Lat|      Long|1/22/20|1/23/20|1/24/20|1/25/20|1/26/20|1/27/20|1/28/20|1/29/20|1/30/20|1/31/20|2/1/20|2/2/20|2/3/20|2/4/20|2/5/20|2/6/20|2/7/20|2/8/20|2/9/20|2/10/20|2/11/20|2/12/20|2/13/20|2/14/20|2/15/20|2/16/20|2/17/20|2/18/20|2/19/20|2/20/20|2/21/20|2/22/20|2/23/20|2/24/20|2/25/20|2/26/20|2/27/20|2/28/20|2/29/20|3/1/20|3/2/20|3/3/20|3/4/20|3/5/20|3/6/20|3/7/20|3/8/20|3/9/20|3/10/20|3/11/20|3/12/20|3/13/20|3/14/20|3/15/20|3/16/20|3/17/20|3/18/20|3/19/20|3/20/20|3/21/20|3/22/20|3/23/20|3/24/20|3/25/20|3/26/20|3/27/20|3/28/20|3/29/20|3/30/20|3/31/20|4/1/20|4/2/20|4/3/20|4/4/20|4/5/20|4/6/20|4/7/20|4/8/20|4/9/20|4/10/20|4/11/20|4/12/20|4/13/20|4/14/20|4/15/20|4/16/20|4/17/20|4/18/20|4/19/20|4/20/20|4/21/20|4/22/20|4/23/20|4/24/20|4/25/20|4/26/20|4/27/20|4/28/20|4/29/20|4/30/20|5/1/20|5/2/20|5/3/20|5/4/20|5/5/20|5/6/20|5/7/20|5/8/20|5/9/20|5/10/20|5/11/20|5/12/20|5/13/20|5/14/20|5/15/20|5/16/20|5/17/20|5/18/20|5/19/20|5/20/20|5/21/20|5/22/20|5/23/20|5/24/20|5/25/20|5/26/20|5/27/20|5/28/20|5/29/20|5/30/20|5/31/20|6/1/20|6/2/20|6/3/20|6/4/20|6/5/20|6/6/20|6/7/20|6/8/20|6/9/20|6/10/20|6/11/20|6/12/20|6/13/20|6/14/20|6/15/20|6/16/20|6/17/20|6/18/20|6/19/20|6/20/20|6/21/20|6/22/20|6/23/20|6/24/20|6/25/20|6/26/20|6/27/20|6/28/20|6/29/20|6/30/20|7/1/20|7/2/20|7/3/20|7/4/20|7/5/20|7/6/20|7/7/20|7/8/20|7/9/20|7/10/20|7/11/20|7/12/20|7/13/20|7/14/20|7/15/20|7/16/20|7/17/20|7/18/20|7/19/20|7/20/20|7/21/20|7/22/20|7/23/20|7/24/20|7/25/20|7/26/20|7/27/20|7/28/20|7/29/20|7/30/20|7/31/20|8/1/20|8/2/20|8/3/20|8/4/20|8/5/20|8/6/20|8/7/20|8/8/20|8/9/20|8/10/20|8/11/20|8/12/20|8/13/20|8/14/20|8/15/20|8/16/20|8/17/20|8/18/20|8/19/20|8/20/20|8/21/20|8/22/20|8/23/20|8/24/20|8/25/20|8/26/20|8/27/20|8/28/20|8/29/20|8/30/20|8/31/20|9/1/20|9/2/20|9/3/20|9/4/20|9/5/20|9/6/20|9/7/20|9/8/20|9/9/20|9/10/20|9/11/20|9/12/20|9/13/20|9/14/20|9/15/20|9/16/20|9/17/20|9/18/20|9/19/20|9/20/20|9/21/20|9/22/20|9/23/20|9/24/20|9/25/20|9/26/20|9/27/20|9/28/20|9/29/20|9/30/20|10/1/20|10/2/20|10/3/20|10/4/20|10/5/20|10/6/20|10/7/20|10/8/20|10/9/20|10/10/20|10/11/20|10/12/20|10/13/20|10/14/20|10/15/20|10/16/20|10/17/20|10/18/20|10/19/20|10/20/20|10/21/20|10/22/20|10/23/20|10/24/20|10/25/20|10/26/20|10/27/20|10/28/20|10/29/20|10/30/20|10/31/20|11/1/20|11/2/20|11/3/20|11/4/20|11/5/20|11/6/20|11/7/20|11/8/20|11/9/20|11/10/20|11/11/20|11/12/20|11/13/20|11/14/20|11/15/20|11/16/20|11/17/20|11/18/20|11/19/20|11/20/20|11/21/20|11/22/20|11/23/20|11/24/20|11/25/20|11/26/20|11/27/20|11/28/20|11/29/20|11/30/20|12/1/20|12/2/20|12/3/20|12/4/20|12/5/20|12/6/20|12/7/20|12/8/20|12/9/20|12/10/20|12/11/20|12/12/20|12/13/20|12/14/20|12/15/20|12/16/20|12/17/20|12/18/20|12/19/20|12/20/20|12/21/20|12/22/20|12/23/20|12/24/20|12/25/20|12/26/20|12/27/20|12/28/20|12/29/20|12/30/20|12/31/20| 1/1/21| 1/2/21| 1/3/21| 1/4/21| 1/5/21| 1/6/21| 1/7/21| 1/8/21| 1/9/21|1/10/21|1/11/21|1/12/21|1/13/21|1/14/21|1/15/21|1/16/21|1/17/21|1/18/21|1/19/21|1/20/21|1/21/21|1/22/21|1/23/21|1/24/21|1/25/21|1/26/21|1/27/21|1/28/21|1/29/21|1/30/21|1/31/21| 2/1/21| 2/2/21| 2/3/21| 2/4/21| 2/5/21| 2/6/21| 2/7/21| 2/8/21| 2/9/21|2/10/21|2/11/21|2/12/21|2/13/21|2/14/21|2/15/21|2/16/21|2/17/21|2/18/21|2/19/21|2/20/21|2/21/21|2/22/21|2/23/21|2/24/21|2/25/21|2/26/21|2/27/21|2/28/21| 3/1/21| 3/2/21| 3/3/21| 3/4/21| 3/5/21| 3/6/21| 3/7/21| 3/8/21| 3/9/21|3/10/21|3/11/21|3/12/21|3/13/21|3/14/21|3/15/21|3/16/21|3/17/21|3/18/21|3/19/21|3/20/21|3/21/21|3/22/21|3/23/21|3/24/21|3/25/21|3/26/21|3/27/21|3/28/21|3/29/21|3/30/21|3/31/21| 4/1/21| 4/2/21| 4/3/21| 4/4/21| 4/5/21| 4/6/21| 4/7/21| 4/8/21| 4/9/21|4/10/21|4/11/21|4/12/21|4/13/21|4/14/21|4/15/21|4/16/21|4/17/21|4/18/21|4/19/21|4/20/21|4/21/21|4/22/21|4/23/21|4/24/21|4/25/21|4/26/21|4/27/21|4/28/21|4/29/21|4/30/21| 5/1/21| 5/2/21| 5/3/21| 5/4/21| 5/5/21| 5/6/21| 5/7/21| 5/8/21| 5/9/21|5/10/21|5/11/21|5/12/21|5/13/21|5/14/21|5/15/21|5/16/21|5/17/21|5/18/21|\n",
            "+--------------------+-------------------+---------+----------+-------+-------+-------+-------+-------+-------+-------+-------+-------+-------+------+------+------+------+------+------+------+------+------+-------+-------+-------+-------+-------+-------+-------+-------+-------+-------+-------+-------+-------+-------+-------+-------+-------+-------+-------+-------+------+------+------+------+------+------+------+------+------+-------+-------+-------+-------+-------+-------+-------+-------+-------+-------+-------+-------+-------+-------+-------+-------+-------+-------+-------+-------+-------+-------+------+------+------+------+------+------+------+------+------+-------+-------+-------+-------+-------+-------+-------+-------+-------+-------+-------+-------+-------+-------+-------+-------+-------+-------+-------+-------+-------+------+------+------+------+------+------+------+------+------+-------+-------+-------+-------+-------+-------+-------+-------+-------+-------+-------+-------+-------+-------+-------+-------+-------+-------+-------+-------+-------+-------+------+------+------+------+------+------+------+------+------+-------+-------+-------+-------+-------+-------+-------+-------+-------+-------+-------+-------+-------+-------+-------+-------+-------+-------+-------+-------+-------+------+------+------+------+------+------+------+------+------+-------+-------+-------+-------+-------+-------+-------+-------+-------+-------+-------+-------+-------+-------+-------+-------+-------+-------+-------+-------+-------+-------+------+------+------+------+------+------+------+------+------+-------+-------+-------+-------+-------+-------+-------+-------+-------+-------+-------+-------+-------+-------+-------+-------+-------+-------+-------+-------+-------+-------+------+------+------+------+------+------+------+------+------+-------+-------+-------+-------+-------+-------+-------+-------+-------+-------+-------+-------+-------+-------+-------+-------+-------+-------+-------+-------+-------+-------+-------+-------+-------+-------+-------+-------+-------+-------+--------+--------+--------+--------+--------+--------+--------+--------+--------+--------+--------+--------+--------+--------+--------+--------+--------+--------+--------+--------+--------+--------+-------+-------+-------+-------+-------+-------+-------+-------+-------+--------+--------+--------+--------+--------+--------+--------+--------+--------+--------+--------+--------+--------+--------+--------+--------+--------+--------+--------+--------+--------+-------+-------+-------+-------+-------+-------+-------+-------+-------+--------+--------+--------+--------+--------+--------+--------+--------+--------+--------+--------+--------+--------+--------+--------+--------+--------+--------+--------+--------+--------+--------+-------+-------+-------+-------+-------+-------+-------+-------+-------+-------+-------+-------+-------+-------+-------+-------+-------+-------+-------+-------+-------+-------+-------+-------+-------+-------+-------+-------+-------+-------+-------+-------+-------+-------+-------+-------+-------+-------+-------+-------+-------+-------+-------+-------+-------+-------+-------+-------+-------+-------+-------+-------+-------+-------+-------+-------+-------+-------+-------+-------+-------+-------+-------+-------+-------+-------+-------+-------+-------+-------+-------+-------+-------+-------+-------+-------+-------+-------+-------+-------+-------+-------+-------+-------+-------+-------+-------+-------+-------+-------+-------+-------+-------+-------+-------+-------+-------+-------+-------+-------+-------+-------+-------+-------+-------+-------+-------+-------+-------+-------+-------+-------+-------+-------+-------+-------+-------+-------+-------+-------+-------+-------+-------+-------+-------+-------+-------+-------+-------+-------+-------+-------+-------+-------+-------+-------+-------+-------+\n",
            "|                null|        Afghanistan| 33.93911| 67.709953|      0|      0|      0|      0|      0|      0|      0|      0|      0|      0|     0|     0|     0|     0|     0|     0|     0|     0|     0|      0|      0|      0|      0|      0|      0|      0|      0|      0|      0|      0|      0|      0|      0|      1|      1|      1|      1|      1|      1|     1|     1|     2|     4|     4|     4|     4|     5|     7|      8|     11|     12|     13|     15|     16|     18|     20|     24|     25|     29|     30|     34|     41|     43|     76|     80|     91|    107|    118|    146|    175|   197|   240|   275|   300|   338|   368|   424|   445|   485|    532|    556|    608|    666|    715|    785|    841|    907|    934|    997|   1027|   1093|   1177|   1236|   1331|   1464|   1532|   1704|   1830|   1940|   2127|  2291|  2470|  2705|  2895|  3225|  3393|  3564|  3781|  4042|   4403|   4687|   4968|   5227|   5640|   6054|   6403|   6665|   7073|   7654|   8146|   8677|   9219|  10001|  10585|  11176|  11834|  12459|  13039|  13662|  14528|  15208| 15753| 16512| 17270| 18057| 18972| 19554| 20345| 20920| 21462|  22146|  22894|  23550|  24106|  24770|  25531|  26314|  26878|  27536|  27882|  28428|  28837|  29147|  29471|  29705|  30165|  30441|  30606|  30957|  31228|  31507| 31826| 32012| 32314| 32662| 32941| 33180| 33374| 33584| 33898|  34184|  34356|  34441|  34595|  34730|  34984|  35060|  35219|  35279|  35453|  35493|  35605|  35717|  35918|  35978|  36026|  36147|  36253|  36358|  36463|  36532|  36665| 36700| 36701| 36737| 36773| 36820| 36928| 37006| 37046| 37083|  37153|  37260|  37336|  37422|  37497|  37542|  37590|  37667|  37710|  37750|  37852|  37885|  37944|  37990|  38045|  38061|  38103|  38119|  38130|  38133|  38155|  38159| 38193| 38243| 38288| 38304| 38324| 38398| 38494| 38520| 38544|  38572|  38606|  38641|  38716|  38772|  38815|  38855|  38872|  38897|  38919|  39044|  39074|  39096|  39145|  39170|  39186|  39192|  39227|  39239|  39254|  39268|  39285|  39290|  39297|  39341|  39422|  39486|  39548|  39616|  39693|   39703|   39799|   39870|   39928|   39994|   40026|   40088|   40141|   40200|   40287|   40369|   40510|   40626|   40687|   40768|   40833|   40937|   41032|   41145|   41268|   41334|   41425|  41501|  41633|  41728|  41814|  41935|  41975|  42033|  42159|  42297|   42463|   42609|   42795|   42969|   43035|   43240|   43468|   43681|   43924|   44177|   44363|   44503|   44706|   44988|   45174|   45384|   45600|   45723|   45844|   46116|   46274|  46516|  46718|  46837|  46837|  47072|  47306|  47516|  47716|  47851|   48053|   48116|   48229|   48527|   48718|   48952|   49161|   49378|   49621|   49681|   49817|   50013|   50190|   50433|   50655|   50810|   50886|   51039|   51280|   51350|   51405|   51526|  51526|  51526|  51526|  53011|  53105|  53105|  53207|  53332|  53400|  53489|  53538|  53584|  53584|  53775|  53831|  53938|  53984|  54062|  54141|  54278|  54403|  54483|  54559|  54595|  54672|  54750|  54854|  54891|  54939|  55008|  55023|  55059|  55121|  55174|  55231|  55265|  55330|  55335|  55359|  55384|  55402|  55420|  55445|  55473|  55492|  55514|  55518|  55540|  55557|  55575|  55580|  55604|  55617|  55646|  55664|  55680|  55696|  55707|  55714|  55733|  55759|  55770|  55775|  55827|  55840|  55847|  55876|  55876|  55894|  55917|  55959|  55959|  55985|  55985|  55995|  56016|  56044|  56069|  56093|  56103|  56153|  56177|  56192|  56226|  56254|  56290|  56294|  56322|  56384|  56454|  56517|  56572|  56595|  56676|  56717|  56779|  56873|  56943|  57019|  57144|  57160|  57242|  57364|  57492|  57534|  57612|  57721|  57793|  57898|  58037|  58214|  58312|  58542|  58730|  58843|  59015|  59225|  59370|  59576|  59745|  59939|  60122|  60300|  60563|  60797|  61162|  61455|  61755|  61842|  62063|  62403|  62718|  63045|  63355|  63412|  63484|  63598|  63819|\n",
            "|                null|            Albania|  41.1533|   20.1683|      0|      0|      0|      0|      0|      0|      0|      0|      0|      0|     0|     0|     0|     0|     0|     0|     0|     0|     0|      0|      0|      0|      0|      0|      0|      0|      0|      0|      0|      0|      0|      0|      0|      0|      0|      0|      0|      0|      0|     0|     0|     0|     0|     0|     0|     0|     0|     2|     10|     12|     23|     33|     38|     42|     51|     55|     59|     64|     70|     76|     89|    104|    123|    146|    174|    186|    197|    212|    223|    243|   259|   277|   304|   333|   361|   377|   383|   400|   409|    416|    433|    446|    467|    475|    494|    518|    539|    548|    562|    584|    609|    634|    663|    678|    712|    726|    736|    750|    766|    773|   782|   789|   795|   803|   820|   832|   842|   850|   856|    868|    872|    876|    880|    898|    916|    933|    946|    948|    949|    964|    969|    981|    989|    998|   1004|   1029|   1050|   1076|   1099|   1122|   1137|  1143|  1164|  1184|  1197|  1212|  1232|  1246|  1263|  1299|   1341|   1385|   1416|   1464|   1521|   1590|   1672|   1722|   1788|   1838|   1891|   1962|   1995|   2047|   2114|   2192|   2269|   2330|   2402|   2466|   2535|  2580|  2662|  2752|  2819|  2893|  2964|  3038|  3106|  3188|   3278|   3371|   3454|   3571|   3667|   3752|   3851|   3906|   4008|   4090|   4171|   4290|   4358|   4466|   4570|   4637|   4763|   4880|   4997|   5105|   5197|   5276|  5396|  5519|  5620|  5750|  5889|  6016|  6151|  6275|  6411|   6536|   6676|   6817|   6971|   7117|   7260|   7380|   7499|   7654|   7812|   7967|   8119|   8275|   8427|   8605|   8759|   8927|   9083|   9195|   9279|   9380|   9513|  9606|  9728|  9844|  9967| 10102| 10255| 10406| 10553| 10704|  10860|  11021|  11185|  11353|  11520|  11672|  11816|  11948|  12073|  12226|  12385|  12535|  12666|  12787|  12921|  13045|  13153|  13259|  13391|  13518|  13649|  13806|  13965|  14117|  14266|  14410|  14568|  14730|  14899|  15066|   15231|   15399|   15570|   15752|   15955|   16212|   16501|   16774|   17055|   17350|   17651|   17948|   18250|   18556|   18858|   19157|   19445|   19729|   20040|   20315|   20634|   20875|  21202|  21523|  21904|  22300|  22721|  23210|  23705|  24206|  24731|   25294|   25801|   26211|   26701|   27233|   27830|   28432|   29126|   29837|   30623|   31459|   32196|   32761|   33556|   34300|   34944|   35600|   36245|   36790|   37625|   38182|  39014|  39719|  40501|  41302|  42148|  42988|  43683|  44436|  45188|   46061|   46863|   47742|   48530|   49191|   50000|   50637|   51424|   52004|   52542|   53003|   53425|   53814|   54317|   54827|   55380|   55755|   56254|   56572|   57146|   57727|   58316|  58316|  58991|  59438|  59623|  60283|  61008|  61705|  62378|  63033|  63595|  63971|  64627|  65334|  65994|  66635|  67216|  67690|  67982|  68568|  69238|  69916|  70655|  71441|  72274|  72812|  73691|  74567|  75454|  76350|  77251|  78127|  78992|  79934|  80941|  81993|  83082|  84212|  85336|  86289|  87528|  88671|  89776|  90835|  91987|  93075|  93850|  94651|  95726|  96838|  97909|  99062| 100246| 101285| 102306| 103327| 104313| 105229| 106215| 107167| 107931| 108823| 109674| 110521| 111301| 112078| 112897| 113580| 114209| 114840| 115442| 116123| 116821| 117474| 118017| 118492| 118938| 119528| 120022| 120541| 121200| 121544| 121847| 122295| 122767| 123216| 123641| 124134| 124419| 124723| 125157| 125506| 125842| 126183| 126531| 126795| 126936| 127192| 127509| 127795| 128155| 128393| 128518| 128752| 128959| 129128| 129307| 129456| 129594| 129694| 129842| 129980| 130114| 130270| 130409| 130537| 130606| 130736| 130859| 130977| 131085| 131185| 131238| 131276| 131327| 131419| 131510| 131577| 131666| 131723| 131753| 131803| 131845| 131890| 131939| 131978| 132015| 132032| 132071|\n",
            "|                null|            Algeria|  28.0339|    1.6596|      0|      0|      0|      0|      0|      0|      0|      0|      0|      0|     0|     0|     0|     0|     0|     0|     0|     0|     0|      0|      0|      0|      0|      0|      0|      0|      0|      0|      0|      0|      0|      0|      0|      0|      1|      1|      1|      1|      1|     1|     3|     5|    12|    12|    17|    17|    19|    20|     20|     20|     24|     26|     37|     48|     54|     60|     74|     87|     90|    139|    201|    230|    264|    302|    367|    409|    454|    511|    584|    716|   847|   986|  1171|  1251|  1320|  1423|  1468|  1572|  1666|   1761|   1825|   1914|   1983|   2070|   2160|   2268|   2418|   2534|   2629|   2718|   2811|   2910|   3007|   3127|   3256|   3382|   3517|   3649|   3848|   4006|  4154|  4295|  4474|  4648|  4838|  4997|  5182|  5369|  5558|   5723|   5891|   6067|   6253|   6442|   6629|   6821|   7019|   7201|   7377|   7542|   7728|   7918|   8113|   8306|   8503|   8697|   8857|   8997|   9134|   9267|   9394|  9513|  9626|  9733|  9831|  9935| 10050| 10154| 10265| 10382|  10484|  10589|  10698|  10810|  10919|  11031|  11147|  11268|  11385|  11504|  11631|  11771|  11920|  12076|  12248|  12445|  12685|  12968|  13273|  13571|  13907| 14272| 14657| 15070| 15500| 15941| 16404| 16879| 17348| 17808|  18242|  18712|  19195|  19689|  20216|  20770|  21355|  21948|  22549|  23084|  23691|  24278|  24872|  25484|  26159|  26764|  27357|  27973|  28615|  29229|  29831|  30394| 30950| 31465| 31972| 32504| 33055| 33626| 34155| 34693| 35160|  35712|  36204|  36699|  37187|  37664|  38133|  38583|  39025|  39444|  39847|  40258|  40667|  41068|  41460|  41858|  42228|  42619|  43016|  43403|  43781|  44146|  44494| 44833| 45158| 45469| 45773| 46071| 46364| 46653| 46938| 47216|  47488|  47752|  48007|  48254|  48496|  48734|  48966|  49194|  49413|  49623|  49826|  50023|  50214|  50400|  50579|  50754|  50914|  51067|  51213|  51368|  51530|  51690|  51847|  51995|  52136|  52270|  52399|  52520|  52658|  52804|   52940|   53072|   53325|   53399|   53584|   53777|   53998|   54203|   54402|   54616|   54829|   55081|   55357|   55630|   55880|   56143|   56419|   56706|   57026|   57332|   57651|   57942|  58272|  58574|  58979|  59527|  60169|  60800|  61381|  62051|  62693|   63446|   64257|   65108|   65975|   66819|   67679|   68589|   69591|   70629|   71652|   72755|   73774|   74862|   75867|   77000|   78025|   79110|   80168|   81212|   82221|   83199|  84152|  85084|  85927|  86730|  87502|  88252|  88825|  89416|  90014|   90579|   91121|   91638|   92102|   92597|   93065|   93507|   93933|   94371|   94781|   95203|   95659|   96069|   96549|   97007|   97441|   97857|   98249|   98631|   98988|   99311|   99610|  99897| 100159| 100408| 100645| 100873| 101120| 101382| 101657| 101913| 102144| 102369| 102641| 102860| 103127| 103381| 103611| 103833| 104092| 104341| 104606| 104852| 105124| 105369| 105596| 105854| 106097| 106359| 106610| 106887| 107122| 107339| 107578| 107841| 108116| 108381| 108629| 108629| 109088| 109313| 109559| 109782| 110049| 110303| 110513| 110711| 110894| 111069| 111247| 111418| 111600| 111764| 111917| 112094| 112279| 112461| 112622| 112805| 112960| 113092| 113255| 113430| 113593| 113761| 113948| 114104| 114234| 114382| 114543| 114681| 114851| 115008| 115143| 115265| 115410| 115540| 115688| 115842| 115970| 116066| 116157| 116255| 116349| 116438| 116543| 116657| 116750| 116836| 116946| 117061| 117192| 117304| 117429| 117524| 117622| 117739| 117879| 118004| 118116| 118251| 118378| 118516| 118645| 118799| 118975| 119142| 119323| 119486| 119642| 119805| 119992| 120174| 120363| 120562| 120736| 120922| 121112| 121344| 121580| 121866| 122108| 122311| 122522| 122717| 122999| 123272| 123473| 123692| 123900| 124104| 124288| 124483| 124682| 124889| 125059| 125194| 125311| 125485| 125693|\n",
            "|                null|            Andorra|  42.5063|    1.5218|      0|      0|      0|      0|      0|      0|      0|      0|      0|      0|     0|     0|     0|     0|     0|     0|     0|     0|     0|      0|      0|      0|      0|      0|      0|      0|      0|      0|      0|      0|      0|      0|      0|      0|      0|      0|      0|      0|      0|     0|     1|     1|     1|     1|     1|     1|     1|     1|      1|      1|      1|      1|      1|      1|      2|     39|     39|     53|     75|     88|    113|    133|    164|    188|    224|    267|    308|    334|    370|    376|   390|   428|   439|   466|   501|   525|   545|   564|   583|    601|    601|    638|    646|    659|    673|    673|    696|    704|    713|    717|    717|    723|    723|    731|    738|    738|    743|    743|    743|    745|   745|   747|   748|   750|   751|   751|   752|   752|   754|    755|    755|    758|    760|    761|    761|    761|    761|    761|    761|    762|    762|    762|    762|    762|    763|    763|    763|    763|    764|    764|    764|   765|   844|   851|   852|   852|   852|   852|   852|   852|    852|    852|    853|    853|    853|    853|    854|    854|    855|    855|    855|    855|    855|    855|    855|    855|    855|    855|    855|    855|    855|   855|   855|   855|   855|   855|   855|   855|   855|   855|    855|    855|    855|    858|    861|    862|    877|    880|    880|    880|    884|    884|    889|    889|    897|    897|    897|    907|    907|    918|    922|    925|   925|   925|   937|   939|   939|   944|   955|   955|   955|    963|    963|    977|    981|    989|    989|    989|   1005|   1005|   1024|   1024|   1045|   1045|   1045|   1060|   1060|   1098|   1098|   1124|   1124|   1124|   1176|  1184|  1199|  1199|  1215|  1215|  1215|  1261|  1261|  1301|   1301|   1344|   1344|   1344|   1438|   1438|   1483|   1483|   1564|   1564|   1564|   1681|   1681|   1753|   1753|   1836|   1836|   1836|   1966|   1966|   2050|   2050|   2110|   2110|   2110|   2370|   2370|   2568|   2568|   2696|    2696|    2696|    2995|    2995|    3190|    3190|    3377|    3377|    3377|    3623|    3623|    3811|    3811|    4038|    4038|    4038|    4325|    4410|    4517|    4567|    4665|    4756|   4825|   4888|   4910|   5045|   5135|   5135|   5319|   5383|   5437|    5477|    5567|    5616|    5725|    5725|    5872|    5914|    5951|    6018|    6066|    6142|    6207|    6256|    6304|    6351|    6428|    6534|    6610|    6610|    6712|    6745|   6790|   6842|   6904|   6955|   7005|   7050|   7084|   7127|   7162|    7190|    7236|    7288|    7338|    7382|    7382|    7446|    7466|    7519|    7560|    7577|    7602|    7633|    7669|    7699|    7756|    7806|    7821|    7875|    7919|    7983|    8049|   8117|   8166|   8192|   8249|   8308|   8348|   8348|   8489|   8586|   8586|   8586|   8682|   8818|   8868|   8946|   9038|   9083|   9083|   9194|   9308|   9379|   9416|   9499|   9549|   9596|   9638|   9716|   9779|   9837|   9885|   9937|   9972|  10017|  10070|  10137|  10172|  10206|  10251|  10275|  10312|  10352|  10391|  10427|  10463|  10503|  10538|  10555|  10583|  10610|  10645|  10672|  10699|  10712|  10739|  10775|  10799|  10822|  10849|  10866|  10889|  10908|  10948|  10976|  10998|  11019|  11042|  11069|  11089|  11130|  11130|  11199|  11228|  11266|  11289|  11319|  11360|  11393|  11431|  11481|  11517|  11545|  11591|  11638|  11687|  11732|  11809|  11850|  11888|  11944|  12010|  12053|  12115|  12174|  12231|  12286|  12328|  12363|  12409|  12456|  12497|  12545|  12581|  12614|  12641|  12641|  12712|  12771|  12805|  12805|  12874|  12917|  12942|  13007|  13024|  13060|  13083|  13121|  13148|  13198|  13232|  13232|  13282|  13295|  13316|  13340|  13363|  13390|  13406|  13423|  13429|  13447|  13470|  13470|  13510|  13510|  13510|  13555|  13569|\n",
            "|                null|             Angola| -11.2027|   17.8739|      0|      0|      0|      0|      0|      0|      0|      0|      0|      0|     0|     0|     0|     0|     0|     0|     0|     0|     0|      0|      0|      0|      0|      0|      0|      0|      0|      0|      0|      0|      0|      0|      0|      0|      0|      0|      0|      0|      0|     0|     0|     0|     0|     0|     0|     0|     0|     0|      0|      0|      0|      0|      0|      0|      0|      0|      0|      0|      1|      2|      2|      3|      3|      3|      4|      4|      5|      7|      7|      7|     8|     8|     8|    10|    14|    16|    17|    19|    19|     19|     19|     19|     19|     19|     19|     19|     19|     24|     24|     24|     24|     25|     25|     25|     25|     26|     27|     27|     27|     27|    30|    35|    35|    35|    36|    36|    36|    43|    43|     45|     45|     45|     45|     48|     48|     48|     48|     50|     52|     52|     58|     60|     61|     69|     70|     70|     71|     74|     81|     84|     86|    86|    86|    86|    86|    86|    88|    91|    92|    96|    113|    118|    130|    138|    140|    142|    148|    155|    166|    172|    176|    183|    186|    189|    197|    212|    212|    259|    267|    276|    284|   291|   315|   328|   346|   346|   346|   386|   386|   396|    458|    462|    506|    525|    541|    576|    607|    638|    687|    705|    749|    779|    812|    851|    880|    916|    932|    950|   1000|   1078|   1109|   1148|  1164|  1199|  1280|  1344|  1395|  1483|  1538|  1572|  1672|   1679|   1735|   1762|   1815|   1852|   1879|   1906|   1935|   1966|   2015|   2044|   2068|   2134|   2171|   2222|   2283|   2332|   2415|   2471|   2551|   2624|   2654|  2729|  2777|  2805|  2876|  2935|  2965|  2981|  3033|  3092|   3217|   3279|   3335|   3388|   3439|   3569|   3675|   3789|   3848|   3901|   3991|   4117|   4236|   4363|   4475|   4590|   4672|   4718|   4797|   4905|   4972|   5114|   5211|   5370|   5402|   5530|   5725|   5725|   5958|   6031|    6246|    6366|    6488|    6680|    6846|    7096|    7222|    7462|    7622|    7829|    8049|    8338|    8582|    8829|    9026|    9381|    9644|    9871|   10074|   10269|   10558|   10805|  11035|  11228|  11577|  11813|  12102|  12223|  12335|  12433|  12680|   12816|   12953|   13053|   13228|   13374|   13451|   13615|   13818|   13922|   14134|   14267|   14413|   14493|   14634|   14742|   14821|   14920|   15008|   15087|   15103|   15139|  15251|  15319|  15361|  15493|  15536|  15591|  15648|  15729|  15804|   15925|   16061|   16161|   16188|   16277|   16362|   16407|   16484|   16562|   16626|   16644|   16686|   16802|   16931|   17029|   17099|   17149|   17240|   17296|   17371|   17433|   17553|  17568|  17608|  17642|  17684|  17756|  17864|  17974|  18066|  18156|  18193|  18254|  18343|  18425|  18613|  18679|  18765|  18875|  18926|  19011|  19093|  19177|  19269|  19367|  19399|  19476|  19553|  19580|  19672|  19723|  19782|  19796|  19829|  19900|  19937|  19996|  20030|  20062|  20086|  20112|  20163|  20210|  20261|  20294|  20329|  20366|  20381|  20389|  20400|  20452|  20478|  20499|  20519|  20548|  20584|  20640|  20695|  20759|  20782|  20807|  20854|  20882|  20923|  20981|  21026|  21055|  21086|  21108|  21114|  21161|  21205|  21265|  21323|  21380|  21407|  21446|  21489|  21558|  21642|  21696|  21733|  21757|  21774|  21836|  21914|  21961|  22031|  22063|  22132|  22182|  22311|  22399|  22467|  22579|  22631|  22717|  22885|  23010|  23108|  23242|  23331|  23457|  23549|  23697|  23841|  23951|  24122|  24300|  24389|  24518|  24661|  24883|  25051|  25279|  25492|  25609|  25710|  25942|  26168|  26431|  26652|  26815|  26993|  27133|  27284|  27529|  27921|  28201|  28477|  28740|  28875|  29146|  29405|  29695|  30030|  30354|  30637|  30787|  31045|\n",
            "|                null|Antigua and Barbuda|  17.0608|  -61.7964|      0|      0|      0|      0|      0|      0|      0|      0|      0|      0|     0|     0|     0|     0|     0|     0|     0|     0|     0|      0|      0|      0|      0|      0|      0|      0|      0|      0|      0|      0|      0|      0|      0|      0|      0|      0|      0|      0|      0|     0|     0|     0|     0|     0|     0|     0|     0|     0|      0|      0|      0|      1|      1|      1|      1|      1|      1|      1|      1|      1|      1|      3|      3|      3|      7|      7|      7|      7|      7|      7|     7|     9|    15|    15|    15|    15|    19|    19|    19|     19|     21|     21|     23|     23|     23|     23|     23|     23|     23|     23|     23|     24|     24|     24|     24|     24|     24|     24|     24|     24|    25|    25|    25|    25|    25|    25|    25|    25|    25|     25|     25|     25|     25|     25|     25|     25|     25|     25|     25|     25|     25|     25|     25|     25|     25|     25|     25|     25|     25|     25|     26|    26|    26|    26|    26|    26|    26|    26|    26|    26|     26|     26|     26|     26|     26|     26|     26|     26|     26|     26|     26|     26|     26|     26|     26|     65|     65|     65|     69|     69|     69|    69|    69|    68|    68|    68|    70|    70|    70|    73|     74|     74|     74|     74|     74|     74|     74|     76|     76|     76|     76|     76|     76|     76|     82|     82|     82|     86|     86|     91|     91|     91|    91|    91|    92|    92|    92|    92|    92|    92|    92|     92|     92|     92|     92|     93|     93|     93|     93|     93|     94|     94|     94|     94|     94|     94|     94|     94|     94|     94|     94|     94|     94|    94|    94|    95|    95|    95|    95|    95|    95|    95|     95|     95|     95|     95|     95|     95|     95|     95|     95|     96|     96|     96|     96|     97|     97|     98|     98|    101|    101|    101|    101|    101|    106|    107|    107|    107|    107|    108|    111|    111|     111|     111|     111|     111|     112|     112|     112|     119|     119|     119|     119|     122|     122|     122|     124|     124|     124|     124|     124|     124|     127|     128|    128|    128|    128|    130|    130|    130|    131|    131|    131|     131|     131|     131|     133|     134|     134|     134|     134|     139|     139|     139|     139|     139|     139|     139|     140|     141|     141|     141|     141|     141|    142|    144|    144|    144|    144|    144|    146|    146|    146|     146|     147|     148|     148|     148|     148|     151|     151|     152|     152|     153|     153|     153|     154|     154|     155|     155|     155|     158|     158|     158|     159|    159|    159|    160|    160|    160|    163|    163|    167|    169|    176|    176|    176|    176|    184|    184|    187|    189|    189|    190|    190|    192|    195|    195|    198|    201|    201|    215|    215|    218|    218|    234|    234|    249|    249|    268|    277|    288|    299|    316|    316|    350|    381|    419|    427|    427|    443|    443|    525|    548|    548|    598|    598|    614|    636|    646|    701|    701|    726|    730|    769|    769|    769|    813|    813|    813|    848|    848|    862|    882|    882|    945|    962|    963|    963|    992|    992|   1008|   1011|   1033|   1033|   1072|   1080|   1080|   1103|   1122|   1122|   1128|   1136|   1136|   1136|   1147|   1152|   1170|   1170|   1173|   1173|   1177|   1180|   1182|   1197|   1198|   1198|   1201|   1201|   1209|   1213|   1216|   1216|   1217|   1217|   1217|   1217|   1222|   1227|   1227|   1228|   1232|   1232|   1232|   1232|   1232|   1232|   1232|   1232|   1232|   1232|   1232|   1232|   1231|   1237|   1238|   1240|   1240|   1240|   1241|   1241|   1251|   1251|\n",
            "|                null|          Argentina| -38.4161|  -63.6167|      0|      0|      0|      0|      0|      0|      0|      0|      0|      0|     0|     0|     0|     0|     0|     0|     0|     0|     0|      0|      0|      0|      0|      0|      0|      0|      0|      0|      0|      0|      0|      0|      0|      0|      0|      0|      0|      0|      0|     0|     0|     1|     1|     1|     2|     8|    12|    12|     17|     19|     19|     31|     34|     45|     56|     68|     79|     97|    128|    158|    266|    301|    387|    387|    502|    589|    690|    745|    820|   1054|  1054|  1133|  1265|  1451|  1451|  1554|  1628|  1715|  1795|   1975|   1975|   2142|   2208|   2277|   2443|   2571|   2669|   2758|   2839|   2941|   3031|   3144|   3435|   3607|   3780|   3892|   4003|   4127|   4285|   4428|  4532|  4681|  4783|  4887|  5020|  5208|  5371|  5611|  5776|   6034|   6278|   6563|   6879|   7134|   7479|   7805|   8068|   8371|   8809|   9283|   9931|  10649|  11353|  12076|  12628|  13228|  13933|  14702|  15419|  16214|  16851| 17415| 18319| 19268| 20197| 21037| 22020| 22794| 23620| 24761|  25987|  27373|  28764|  30295|  31577|  32785|  34159|  35552|  37510|  39570|  41204|  42785|  44931|  47203|  49851|  52457|  55343|  57744|  59933|  62268|  64530| 67197| 69941| 72786| 75376| 77815| 80447| 83426| 87030| 90693|  94060|  97509| 100166| 103265| 106910| 111146| 114783| 119301| 122524| 126755| 130774| 136118| 141900| 148027| 153520| 158334| 162526| 167416| 173355| 178996| 185373| 191302|196543|201919|206743|213535|220682|228195|235677|241811|246499| 253868| 260911| 268574| 276072| 282437| 289100| 294569| 299126| 305966| 312659| 320884| 329043| 336802| 342154| 350867| 359638| 370188| 380292| 392009| 401239| 408426| 417735|428239|439172|451198|461882|471806|478792|488007|500034|512293| 524198| 535705| 546481| 555537| 565446| 577338| 589012| 601713| 613658| 622934| 631365| 640147| 652174| 664799| 678266| 691235| 702484| 711325| 723132| 736609| 751001| 765002| 779689| 790818| 798486| 809728| 824468| 840915| 856369| 871468|  883882|  894206|  903730|  917035|  931967|  949063|  965609|  979119|  989680| 1002662| 1018999| 1037325| 1053650| 1069368| 1081336| 1090589| 1102301| 1116609| 1130533| 1143800| 1157179| 1166924|1173533|1183131|1195276|1205928|1217028|1228814|1236851|1242182|1250499| 1262476| 1273356| 1284519| 1296378| 1304846| 1310491| 1318384| 1329005| 1339337| 1349434| 1359042| 1366182| 1370366| 1374631| 1381795| 1390388| 1399431| 1407277| 1413375| 1418807| 1424533|1432570|1440103|1447732|1454631|1459832|1463110|1466309|1469919|1475222| 1482216| 1489328| 1494602| 1498160| 1503222| 1510203| 1517046| 1524372| 1531374| 1537169| 1541285| 1547138| 1555279| 1563865| 1563865| 1574554| 1578267| 1583297| 1590513| 1602163| 1613928| 1625514|1629594|1634834|1640718|1648940|1662730|1676171|1690006|1703352|1714409|1722217|1730921|1744704|1757429|1770715|1783047|1791979|1799243|1807428|1819569|1831681|1843077|1853830|1862192|1867223|1874801|1885210|1896053|1905524|1915362|1922264|1927239|1933853|1943548|1952744|1961635|1970009|1976689|1980347|1985501|1993295|2001034|2008345|2015496|2021553|2025798|2029057|2033060|2039124|2046795|2054681|2060625|2064334|2069751|2077228|2085411|2093645|2098728|2104197|2107365|2112023|2118676|2126531|2133963|2141854|2146714|2149636|2154694|2162001|2169694|2177898|2185747|2192025|2195722|2201886|2210121|2218425|2226753|2234913|2241739|2245771|2252172|2261577|2269877|2278115|2291051|2301389|2308597|2322611|2332765|2348821|2363251|2373153|2383537|2393492|2407159|2428029|2450068|2473751|2497881|2517300|2532562|2551999|2579000|2604157|2629156|2658628|2677747|2694014|2714475|2743620|2769552|2796768|2824652|2845872|2860884|2879677|2905172|2928890|2954943|2977363|2993865|3005259|3021179|3047417|3071496|3095582|3118134|3136158|3147740|3165121|3191097|3215572|3242103|3269466|3290935|3307285|3335965|3371508|\n",
            "|                null|            Armenia|  40.0691|   45.0382|      0|      0|      0|      0|      0|      0|      0|      0|      0|      0|     0|     0|     0|     0|     0|     0|     0|     0|     0|      0|      0|      0|      0|      0|      0|      0|      0|      0|      0|      0|      0|      0|      0|      0|      0|      0|      0|      0|      0|     1|     1|     1|     1|     1|     1|     1|     1|     1|      1|      1|      4|      8|     18|     26|     52|     78|     84|    115|    136|    160|    194|    235|    249|    265|    290|    329|    407|    424|    482|    532|   571|   663|   736|   770|   822|   833|   853|   881|   921|    937|    967|   1013|   1039|   1067|   1111|   1159|   1201|   1248|   1291|   1339|   1401|   1473|   1523|   1596|   1677|   1746|   1808|   1867|   1932|   2066|  2148|  2273|  2386|  2507|  2619|  2782|  2884|  3029|  3175|   3313|   3392|   3538|   3718|   3860|   4044|   4283|   4472|   4823|   5041|   5271|   5606|   5928|   6302|   6661|   7113|   7402|   7774|   8216|   8676|   8927|   9282|  9492| 10009| 10524| 11221| 11817| 12364| 13130| 13325| 13675|  14103|  14669|  15281|  16004|  16667|  17064|  17489|  18033|  18698|  19157|  19708|  20268|  20588|  21006|  21717|  22488|  23247|  23909|  24645|  25127|  25542| 26065| 26658| 27320| 27900| 28606| 28936| 29285| 29820| 30346|  30903|  31392|  31969|  32151|  32490|  33005|  33559|  34001|  34462|  34877|  34981|  35254|  35693|  36162|  36613|  36996|  37317|  37390|  37629|  37937|  38196|  38550| 38841| 39050| 39102| 39298| 39586| 39819| 39985| 40185| 40410|  40433|  40593|  40794|  41023|  41299|  41495|  41663|  41701|  41846|  42056|  42319|  42477|  42616|  42792|  42825|  42936|  43067|  43270|  43451|  43626|  43750|  43781| 43878| 44075| 44271| 44461| 44649| 44783| 44845| 44953| 45152|  45326|  45503|  45675|  45862|  45969|  46119|  46376|  46671|  46910|  47154|  47431|  47552|  47667|  47877|  48251|  48643|  49072|  49400|  49574|  49901|  50359|  50850|  51382|  51925|  52496|  52677|  53083|  53755|  54473|  55087|   55736|   56451|   56821|   57566|   58624|   59995|   61460|   63000|   64694|   65460|   66694|   68530|   70836|   73310|   75523|   77837|   78810|   80410|   82651|   85034|   87432|   89813|  92254|  93448|  94776|  97150|  99563| 101773| 104249| 106424| 107466|  108687|  110548|  112680|  114383|  115855|  117337|  117886|  118870|  120459|  121979|  123646|  124839|  126224|  126709|  127522|  129085|  130870|  132346|  133594|  134768|  135124| 135967| 137231| 138508| 139692| 140959| 141937| 142344| 142928| 144066|  145240|  146317|  147312|  148325|  148682|  149120|  150218|  151392|  152253|  153173|  153825|  154065|  154602|  155440|  156142|  156763|  157349|  157834|  157948|  158296|  158878|  159409| 159738| 159798| 160027| 160220| 160544| 160853| 161054| 161415| 161794| 162131| 162288| 162643| 163128| 163576| 163972| 164235| 164586| 164676| 164912| 165221| 165528| 165711| 165909| 166036| 166094| 166232| 166427| 166669| 166728| 166901| 167026| 167088| 167231| 167421| 167568| 167726| 167937| 168088| 168177| 168300| 168496| 168676| 168830| 169022| 169167| 169255| 169391| 169597| 169820| 170011| 170234| 170402| 170506| 170672| 170945| 171227| 171510| 171793| 172058| 172216| 172456| 172816| 173307| 173749| 174257| 174679| 175016| 175198| 175538| 176286| 177104| 177899| 178385| 178702| 179287| 180141| 181165| 182056| 183127| 183713| 184219| 185020| 186184| 187441| 188446| 189540| 190317| 190741| 191491| 192639| 193736| 194852| 196044| 196634| 197113| 197873| 198898| 200129| 201158| 202167| 202817| 203327| 204053| 205128| 206142| 207103| 207973| 208520| 208818| 209485| 210518| 211399| 212114| 212878| 213288| 213469| 214064| 214872| 215528| 216064| 216596| 216863| 217008| 217407| 217900| 218325| 218681| 219092| 219270| 219353| 219596| 219950| 220217| 220447| 220729| 220860| 220927| 221139|\n",
            "|Australian Capita...|          Australia| -35.4735|  149.0124|      0|      0|      0|      0|      0|      0|      0|      0|      0|      0|     0|     0|     0|     0|     0|     0|     0|     0|     0|      0|      0|      0|      0|      0|      0|      0|      0|      0|      0|      0|      0|      0|      0|      0|      0|      0|      0|      0|      0|     0|     0|     0|     0|     0|     0|     0|     0|     0|      0|      0|      0|      1|      1|      1|      2|      2|      3|      4|      6|      9|     19|     32|     39|     39|     53|     62|     71|     77|     78|     80|    84|    87|    91|    93|    96|    96|    96|    99|   100|    103|    103|    103|    102|    103|    103|    103|    103|    103|    103|    104|    104|    104|    104|    105|    106|    106|    106|    106|    106|    106|   106|   106|   106|   107|   107|   107|   107|   107|   107|    107|    107|    107|    107|    107|    107|    107|    107|    107|    107|    107|    107|    107|    107|    107|    107|    107|    107|    107|    107|    107|    107|   107|   107|   107|   107|   107|   108|   108|   108|   108|    108|    108|    108|    108|    108|    108|    108|    108|    108|    108|    108|    108|    108|    108|    108|    108|    108|    108|    108|    108|    108|   108|   108|   108|   108|   108|   108|   111|   112|   113|    113|    113|    113|    113|    113|    113|    113|    113|    113|    113|    113|    113|    113|    113|    113|    113|    113|    113|    113|    113|    113|    113|   113|   113|   113|   113|   113|   113|   113|   113|   113|    113|    113|    113|    113|    113|    113|    113|    113|    113|    113|    113|    113|    113|    113|    113|    113|    113|    113|    113|    113|    113|    113|   113|   113|   113|   113|   113|   113|   113|   113|   113|    113|    113|    113|    113|    113|    113|    113|    113|    113|    113|    113|    113|    113|    113|    113|    113|    113|    113|    113|    113|    113|    113|    113|    113|    113|    113|    113|    113|    113|    113|     113|     113|     113|     113|     113|     113|     113|     113|     113|     113|     113|     114|     114|     114|     114|     114|     114|     114|     114|     114|     114|     114|    114|    114|    114|    114|    114|    114|    114|    114|    114|     114|     114|     114|     114|     114|     114|     114|     115|     115|     115|     115|     115|     115|     115|     115|     115|     116|     117|     117|     117|     117|    117|    117|    117|    117|    117|    117|    117|    117|    117|     117|     117|     117|     117|     117|     117|     117|     117|     117|     117|     118|     118|     118|     118|     118|     118|     118|     118|     118|     118|     118|     118|    118|    118|    118|    118|    118|    118|    118|    118|    118|    118|    118|    118|    118|    118|    118|    118|    118|    118|    118|    118|    118|    118|    118|    118|    118|    118|    118|    118|    118|    118|    118|    118|    118|    118|    118|    118|    118|    118|    118|    118|    118|    118|    118|    118|    118|    118|    118|    118|    118|    118|    118|    118|    118|    118|    118|    118|    118|    118|    118|    118|    120|    120|    120|    120|    122|    122|    122|    123|    123|    123|    123|    123|    123|    123|    123|    123|    123|    123|    123|    123|    123|    123|    123|    123|    123|    123|    123|    123|    123|    123|    123|    123|    123|    123|    123|    123|    123|    123|    123|    123|    123|    123|    123|    123|    123|    123|    123|    123|    123|    123|    123|    123|    123|    123|    123|    123|    123|    123|    124|    124|    124|    124|    124|    124|    124|    124|    124|    124|    124|    124|    124|    124|    124|    124|    124|    124|    124|    124|\n",
            "|     New South Wales|          Australia| -33.8688|  151.2093|      0|      0|      0|      0|      3|      4|      4|      4|      4|      4|     4|     4|     4|     4|     4|     4|     4|     4|     4|      4|      4|      4|      4|      4|      4|      4|      4|      4|      4|      4|      4|      4|      4|      4|      4|      4|      4|      4|      4|     6|     6|    13|    22|    22|    26|    28|    38|    48|     55|     65|     65|     92|    112|    134|    171|    210|    267|    307|    353|    436|    669|    669|    818|   1029|   1219|   1405|   1617|   1791|   2032|   2032|  2182|  2298|  2389|  2493|  2580|  2637|  2686|  2734|  2773|   2822|   2857|   2857|   2863|   2870|   2886|   2897|   2926|   2936|   2957|   2963|   2969|   2971|   2976|   2982|   2994|   3002|   3004|   3016|   3016|   3025|  3030|  3035|  3033|  3035|  3042|  3044|  3047|  3051|  3053|   3053|   3053|   3059|   3063|   3071|   3074|   3075|   3076|   3078|   3081|   3082|   3084|   3086|   3087|   3090|   3092|   3089|   3090|   3092|   3092|   3095|   3098|  3104|  3104|  3106|  3110|  3110|  3109|  3112|  3114|  3117|   3117|   3115|   3119|   3128|   3131|   3134|   3135|   3137|   3143|   3144|   3149|   3151|   3150|   3159|   3162|   3168|   3174|   3177|   3184|   3189|   3203|  3211|  3211|  3405|  3419|  3429|  3433|  3440|  3453|  3467|   3474|   3478|   3492|   3505|   3517|   3527|   3535|   3550|   3568|   3588|   3599|   3614|   3633|   3640|   3654|   3668|   3685|   3699|   3718|   3736|   3756|   3773|  3784|  3797|  3809|  3820|  3832|  3842|  3851|  3861|  3875|   3897|   3915|   3927|   3936|   3945|   3950|   3957|   3959|   3966|   3971|   3972|   3981|   3985|   3988|   3991|   3997|   4006|   4019|   4033|   4040|   4050|   4063|  4079|  4091|  4099|  4104|  4114|  4118|  4126|  4135|  4142|   4152|   4157|   4166|   4170|   4177|   4185|   4190|   4196|   4198|   4200|   4204|   4206|   4212|   4213|   4217|   4218|   4218|   4218|   4220|   4224|   4227|   4231|   4232|   4234|   4235|   4246|   4249|   4261|   4271|   4273|    4278|    4284|    4295|    4310|    4321|    4326|    4333|    4338|    4342|    4347|    4357|    4363|    4370|    4375|    4382|    4386|    4398|    4406|    4411|    4417|    4421|    4425|   4432|   4435|   4443|   4445|   4454|   4459|   4462|   4469|   4469|    4469|    4469|    4469|    4469|    4486|    4498|    4502|    4509|    4514|    4517|    4527|    4538|    4542|    4548|    4552|    4552|    4556|    4564|    4568|    4577|    4582|   4588|   4597|   4603|   4605|   4610|   4614|   4620|   4622|   4624|    4633|    4639|    4642|    4645|    4650|    4657|    4666|    4682|    4712|    4748|    4771|    4789|    4805|    4823|    4832|    4847|    4858|    4872|    4881|    4906|    4923|    4928|   4947|   4958|   4965|   4973|   4978|   4984|   4995|   5001|   5007|   5018|   5034|   5041|   5043|   5045|   5057|   5066|   5074|   5076|   5079|   5084|   5083|   5084|   5087|   5090|   5091|   5093|   5096|   5099|   5101|   5104|   5110|   5112|   5114|   5117|   5117|   5119|   5120|   5123|   5125|   5129|   5132|   5134|   5136|   5138|   5138|   5139|   5143|   5143|   5145|   5146|   5149|   5150|   5154|   5155|   5162|   5166|   5172|   5177|   5180|   5183|   5189|   5193|   5205|   5207|   5209|   5210|   5215|   5220|   5226|   5234|   5234|   5237|   5240|   5242|   5249|   5251|   5256|   5259|   5261|   5266|   5270|   5273|   5277|   5278|   5281|   5281|   5283|   5288|   5291|   5296|   5296|   5299|   5300|   5303|   5310|   5316|   5318|   5320|   5324|   5330|   5339|   5344|   5347|   5356|   5363|   5370|   5376|   5384|   5387|   5395|   5402|   5418|   5419|   5420|   5428|   5440|   5449|   5464|   5477|   5481|   5484|   5489|   5496|   5506|   5516|   5521|   5527|   5533|   5538|   5542|   5546|   5551|   5552|   5555|   5558|   5560|   5563|   5565|\n",
            "|  Northern Territory|          Australia| -12.4634|  130.8456|      0|      0|      0|      0|      0|      0|      0|      0|      0|      0|     0|     0|     0|     0|     0|     0|     0|     0|     0|      0|      0|      0|      0|      0|      0|      0|      0|      0|      0|      0|      0|      0|      0|      0|      0|      0|      0|      0|      0|     0|     0|     0|     1|     1|     0|     0|     0|     0|      1|      1|      1|      1|      1|      1|      1|      1|      1|      1|      3|      3|      5|      5|      6|      6|     12|     12|     15|     15|     15|     17|    19|    21|    22|    26|    27|    28|    28|    28|    28|     28|     28|     28|     28|     28|     28|     28|     28|     28|     28|     28|     28|     28|     28|     28|     28|     28|     28|     28|     28|     28|    27|    29|    29|    29|    29|    29|    29|    29|    29|     29|     29|     29|     29|     29|     29|     29|     29|     29|     29|     29|     29|     29|     29|     29|     29|     29|     29|     29|     29|     29|     29|    29|    29|    29|    29|    29|    29|    29|    29|    29|     29|     29|     29|     29|     29|     29|     29|     29|     29|     29|     29|     29|     29|     29|     29|     29|     29|     29|     29|     29|     29|    30|    30|    30|    30|    30|    30|    30|    30|    31|     31|     31|     31|     31|     31|     31|     31|     31|     31|     31|     31|     31|     31|     31|     31|     31|     31|     31|     31|     31|     31|     33|    33|    33|    33|    33|    33|    33|    33|    33|    33|     33|     33|     33|     33|     33|     33|     33|     33|     33|     33|     33|     33|     33|     33|     33|     33|     33|     33|     33|     33|     33|     33|    33|    33|    33|    33|    33|    33|    33|    33|    33|     33|     33|     33|     33|     33|     33|     33|     33|     33|     33|     33|     33|     33|     33|     33|     33|     33|     33|     33|     33|     33|     33|     33|     33|     33|     33|     33|     33|     33|     33|      33|      33|      33|      33|      33|      33|      33|      33|      33|      33|      33|      33|      33|      33|      33|      33|      33|      33|      37|      37|      38|      38|     38|     38|     38|     39|     39|     39|     39|     39|     40|      41|      42|      42|      46|      46|      46|      46|      46|      46|      46|      46|      46|      46|      47|      48|      49|      52|      52|      52|      52|      53|     53|     59|     59|     59|     59|     59|     61|     61|     61|      62|      62|      62|      63|      66|      66|      68|      68|      69|      71|      71|      71|      71|      73|      73|      73|      73|      73|      74|      74|      74|      75|     75|     81|     81|     81|     87|     87|     88|     90|     90|     90|     90|     91|     93|     93|     93|     93|     93|     93|     95|     96|     97|     98|     98|     98|     98|     98|     98|     98|     98|     98|     98|     98|     98|     99|     99|    101|    102|    102|    102|    102|    102|    102|    102|    103|    103|    103|    103|    103|    103|    104|    104|    104|    104|    104|    104|    104|    105|    105|    105|    105|    105|    105|    105|    105|    105|    105|    105|    105|    105|    105|    105|    105|    105|    105|    106|    106|    106|    106|    106|    106|    106|    106|    106|    106|    106|    107|    108|    108|    108|    108|    109|    111|    112|    112|    112|    112|    112|    112|    112|    112|    112|    112|    112|    113|    113|    113|    119|    119|    129|    132|    136|    149|    159|    160|    164|    164|    165|    165|    166|    166|    166|    166|    166|    166|    167|    167|    167|    167|    167|    167|    167|    167|    167|    169|    169|    169|    169|    170|\n",
            "|          Queensland|          Australia| -27.4698|  153.0251|      0|      0|      0|      0|      0|      0|      0|      1|      3|      2|     3|     2|     2|     3|     3|     4|     5|     5|     5|      5|      5|      5|      5|      5|      5|      5|      5|      5|      5|      5|      5|      5|      5|      5|      5|      5|      5|      5|      9|     9|     9|    11|    11|    13|    13|    13|    15|    15|     18|     20|     20|     35|     46|     61|     68|     78|     94|    144|    184|    221|    259|    319|    397|    443|    493|    555|    625|    656|    689|    743|   781|   835|   873|   900|   907|   921|   934|   943|   953|    965|    974|    983|    987|    998|    999|   1001|   1007|   1015|   1019|   1019|   1024|   1024|   1026|   1026|   1026|   1030|   1033|   1034|   1033|   1033|  1034|  1035|  1038|  1043|  1043|  1045|  1045|  1045|  1045|   1045|   1051|   1052|   1051|   1054|   1055|   1055|   1057|   1057|   1058|   1058|   1058|   1060|   1061|   1056|   1057|   1058|   1058|   1058|   1058|   1058|   1058|  1059|  1059|  1060|  1060|  1061|  1061|  1062|  1062|  1062|   1063|   1064|   1065|   1065|   1065|   1065|   1066|   1066|   1066|   1066|   1066|   1066|   1066|   1066|   1066|   1067|   1067|   1067|   1067|   1067|   1067|  1067|  1067|  1067|  1067|  1067|  1068|  1068|  1068|  1068|   1070|   1070|   1071|   1071|   1071|   1071|   1071|   1071|   1071|   1072|   1072|   1073|   1074|   1076|   1076|   1076|   1076|   1076|   1078|   1082|   1083|   1084|  1085|  1085|  1085|  1088|  1088|  1087|  1088|  1088|  1089|   1089|   1089|   1089|   1091|   1091|   1091|   1091|   1091|   1092|   1093|   1094|   1103|   1105|   1106|   1106|   1107|   1110|   1113|   1117|   1121|   1122|   1124|  1126|  1128|  1128|  1129|  1131|  1133|  1134|  1143|  1143|   1145|   1149|   1149|   1149|   1150|   1149|   1150|   1150|   1150|   1152|   1153|   1153|   1153|   1153|   1153|   1156|   1157|   1157|   1157|   1157|   1157|   1160|   1160|   1160|   1160|   1160|   1160|   1160|   1160|   1161|    1161|    1161|    1161|    1161|    1162|    1164|    1164|    1164|    1164|    1164|    1165|    1165|    1167|    1167|    1167|    1167|    1167|    1169|    1169|    1172|    1171|    1172|   1172|   1175|   1177|   1177|   1177|   1177|   1177|   1177|   1178|    1179|    1182|    1183|    1185|    1185|    1185|    1186|    1187|    1190|    1190|    1192|    1193|    1196|    1197|    1197|    1197|    1198|    1199|    1201|    1201|    1202|   1205|   1206|   1208|   1210|   1212|   1215|   1221|   1221|   1225|    1224|    1226|    1226|    1227|    1228|    1229|    1230|    1233|    1232|    1234|    1235|    1235|    1236|    1238|    1240|    1241|    1241|    1246|    1248|    1250|    1253|    1253|   1255|   1255|   1260|   1262|   1263|   1265|   1274|   1274|   1274|   1278|   1281|   1283|   1287|   1290|   1291|   1293|   1294|   1297|   1299|   1300|   1303|   1303|   1303|   1305|   1305|   1306|   1307|   1308|   1309|   1309|   1310|   1311|   1311|   1311|   1309|   1311|   1312|   1314|   1315|   1316|   1317|   1318|   1320|   1320|   1320|   1320|   1320|   1320|   1321|   1321|   1321|   1323|   1323|   1323|   1324|   1328|   1329|   1329|   1331|   1335|   1335|   1342|   1344|   1347|   1349|   1356|   1362|   1367|   1373|   1375|   1379|   1380|   1386|   1388|   1394|   1402|   1411|   1415|   1417|   1421|   1422|   1426|   1429|   1436|   1443|   1446|   1456|   1466|   1467|   1477|   1485|   1488|   1489|   1492|   1491|   1497|   1500|   1501|   1502|   1502|   1504|   1506|   1508|   1509|   1515|   1516|   1518|   1518|   1518|   1519|   1520|   1524|   1525|   1529|   1531|   1534|   1550|   1554|   1559|   1561|   1564|   1567|   1568|   1568|   1571|   1573|   1576|   1580|   1580|   1580|   1583|   1585|   1585|   1586|   1589|   1589|   1591|   1592|\n",
            "|     South Australia|          Australia| -34.9285|  138.6007|      0|      0|      0|      0|      0|      0|      0|      0|      0|      0|     1|     2|     2|     2|     2|     2|     2|     2|     2|      2|      2|      2|      2|      2|      2|      2|      2|      2|      2|      2|      2|      2|      2|      2|      2|      2|      2|      2|      3|     3|     3|     3|     5|     5|     7|     7|     7|     7|      7|      9|      9|     16|     19|     20|     29|     29|     37|     42|     50|     67|    100|    134|    170|    170|    235|    257|    287|    299|    305|    337|   367|   367|   396|   407|   407|   411|   411|   415|   420|    428|    429|    429|    429|    433|    433|    433|    435|    435|    435|    435|    437|    438|    438|    438|    438|    438|    438|    438|    438|    438|   438|   438|   438|   438|   438|   438|   439|   439|   439|    439|    439|    439|    439|    439|    439|    439|    439|    439|    439|    439|    439|    439|    439|    439|    439|    440|    440|    440|    440|    440|    440|   440|   440|   440|   440|   440|   440|   440|   440|   440|    440|    440|    440|    440|    440|    440|    440|    440|    440|    440|    440|    440|    440|    440|    440|    440|    440|    440|    440|    443|    443|   443|   443|   443|   443|   443|   443|   443|   443|   443|    443|    443|    443|    443|    443|    444|    444|    444|    444|    444|    444|    444|    446|    447|    447|    447|    447|    447|    448|    448|    449|    451|   453|   455|   457|   457|   456|   459|   459|   459|   459|    459|    459|    459|    460|    460|    460|    461|    462|    462|    462|    462|    462|    462|    463|    463|    463|    463|    463|    463|    463|    463|    463|   463|   463|   463|   463|   464|   464|   464|   465|   465|    465|    466|    466|    466|    466|    466|    466|    466|    466|    466|    466|    466|    466|    468|    468|    468|    468|    468|    468|    468|    468|    468|    470|    470|    471|    471|    472|    472|    472|    473|     473|     475|     475|     476|     479|     479|     479|     482|     484|     484|     484|     485|     485|     487|     487|     491|     494|     494|     495|     496|     497|     501|    501|    503|    504|    509|    510|    512|    515|    515|    517|     517|     517|     517|     517|     522|     544|     547|     551|     551|     553|     554|     555|     556|     557|     558|     560|     559|     562|     561|     562|     562|    562|    562|    562|    562|    562|    562|    562|    562|    562|     562|     562|     562|     563|     563|     563|     563|     563|     563|     563|     566|     566|     566|     568|     568|     569|     569|     572|     572|     575|     576|     580|    580|    580|    583|    581|    582|    582|    585|    587|    587|    588|    588|    590|    590|    591|    593|    593|    593|    593|    594|    596|    596|    596|    596|    596|    596|    596|    596|    596|    596|    597|    596|    597|    601|    601|    602|    602|    602|    603|    603|    605|    606|    606|    606|    606|    606|    606|    608|    608|    608|    608|    610|    610|    612|    613|    613|    613|    613|    613|    616|    617|    618|    618|    618|    618|    618|    618|    620|    621|    624|    626|    631|    631|    634|    636|    638|    640|    641|    642|    642|    642|    642|    644|    644|    645|    648|    650|    650|    655|    655|    656|    658|    658|    659|    661|    661|    662|    663|    665|    665|    666|    666|    666|    675|    677|    678|    682|    682|    682|    688|    691|    693|    702|    703|    704|    705|    719|    720|    719|    722|    724|    725|    727|    730|    733|    733|    735|    738|    738|    740|    740|    740|    741|    741|    741|    742|    742|    742|    746|\n",
            "|            Tasmania|          Australia| -42.8821|  147.3272|      0|      0|      0|      0|      0|      0|      0|      0|      0|      0|     0|     0|     0|     0|     0|     0|     0|     0|     0|      0|      0|      0|      0|      0|      0|      0|      0|      0|      0|      0|      0|      0|      0|      0|      0|      0|      0|      0|      0|     0|     1|     1|     1|     1|     1|     1|     2|     2|      2|      3|      3|      5|      5|      6|      7|      7|     10|     10|     10|     16|     22|     28|     28|     36|     47|     47|     62|     66|     66|     69|    69|    72|    74|    80|    82|    86|    89|    98|   111|    122|    133|    133|    144|    165|    165|    169|    180|    188|    195|    200|    201|    205|    207|    207|    207|    212|    214|    218|    219|    221|   221|   221|   221|   221|   225|   226|   227|   227|   227|    227|    227|    227|    227|    227|    228|    228|    228|    228|    228|    228|    228|    228|    228|    228|    228|    228|    228|    228|    228|    228|    228|   228|   228|   228|   228|   228|   228|   228|   228|   228|    228|    228|    228|    228|    228|    228|    228|    228|    228|    228|    228|    228|    228|    228|    228|    228|    228|    228|    228|    228|    228|   228|   228|   228|   228|   228|   228|   228|   228|   228|    228|    228|    228|    228|    228|    228|    228|    228|    228|    228|    229|    229|    229|    229|    229|    229|    229|    229|    229|    229|    229|    229|   229|   229|   229|   229|   229|   229|   229|   229|   229|    229|    230|    230|    230|    230|    230|    230|    230|    230|    230|    230|    230|    230|    230|    230|    230|    230|    230|    230|    230|    230|    230|   230|   230|   230|   231|   230|   230|   230|   230|   230|    230|    230|    230|    230|    230|    230|    230|    230|    230|    230|    230|    230|    230|    230|    230|    230|    230|    230|    230|    230|    230|    230|    230|    230|    230|    230|    230|    230|    230|    230|     230|     230|     230|     230|     230|     230|     230|     230|     230|     230|     230|     230|     230|     230|     230|     230|     230|     230|     230|     230|     230|     230|    230|    230|    230|    230|    230|    230|    230|    230|    230|     230|     230|     230|     230|     230|     230|     230|     230|     230|     230|     230|     230|     230|     230|     230|     230|     230|     230|     230|     230|     230|    230|    230|    230|    230|    230|    230|    230|    233|    234|     234|     234|     234|     234|     234|     234|     234|     234|     234|     234|     234|     234|     234|     234|     234|     234|     234|     234|     234|     234|     234|     234|    234|    234|    234|    234|    234|    234|    234|    234|    234|    234|    234|    234|    234|    234|    234|    234|    234|    234|    234|    234|    234|    234|    234|    234|    234|    234|    234|    234|    234|    234|    234|    234|    234|    234|    234|    234|    234|    234|    234|    234|    234|    234|    234|    234|    234|    234|    234|    234|    234|    234|    234|    234|    234|    234|    234|    234|    234|    234|    234|    234|    234|    234|    234|    234|    234|    234|    234|    234|    234|    234|    234|    234|    234|    234|    234|    234|    234|    234|    234|    234|    234|    234|    234|    234|    234|    234|    234|    234|    234|    234|    234|    234|    234|    234|    234|    234|    234|    234|    234|    234|    234|    234|    234|    234|    234|    234|    234|    234|    234|    234|    234|    234|    234|    234|    234|    234|    234|    234|    234|    234|    234|    234|    234|    234|    234|    234|    234|    234|    234|    234|    234|    234|    234|    234|    234|    234|    234|    234|\n",
            "|            Victoria|          Australia| -37.8136|  144.9631|      0|      0|      0|      0|      1|      1|      1|      1|      2|      3|     4|     4|     4|     4|     4|     4|     4|     4|     4|      4|      4|      4|      4|      4|      4|      4|      4|      4|      4|      4|      4|      4|      4|      4|      4|      4|      4|      4|      7|     7|     9|     9|    10|    10|    10|    11|    11|    15|     18|     21|     21|     36|     49|     57|     71|     94|    121|    121|    121|    229|    355|    355|    411|    466|    520|    574|    685|    769|    821|    917|   968|  1036|  1085|  1115|  1135|  1158|  1191|  1212|  1228|   1241|   1265|   1268|   1281|   1291|   1299|   1299|   1302|   1319|   1328|   1329|   1336|   1336|   1337|   1343|   1346|   1349|   1349|   1354|   1361|   1364|  1371|  1384|  1406|  1423|  1440|  1454|  1467|  1468|  1487|   1496|   1511|   1514|   1521|   1540|   1551|   1558|   1564|   1573|   1573|   1581|   1593|   1593|   1603|   1605|   1610|   1618|   1628|   1634|   1645|   1649|   1653|  1663|  1670|  1678|  1681|  1681|  1685|  1687|  1687|  1691|   1699|   1703|   1703|   1720|   1732|   1741|   1762|   1780|   1792|   1792|   1836|   1847|   1864|   1884|   1917|   1947|   1947|   2028|   2099|   2159|   2231|  2303|  2368|  2368|  2536|  2660|  2824|  2942|  3098|  3397|   3560|   3799|   3967|   4224|   4448|   4750|   5165|   5353|   5696|   5942|   6289|   6739|   7125|   7405|   7744|   8181|   8696|   9049|   9304|   9998|  10577|  10931| 11557| 11937| 12335| 13035| 13469| 13867| 14283| 14659| 14957|  15251|  15646|  15863|  16234|  16517|  16764|  17027|  17238|  17446|  17683|  17852|  18029|  18231|  18330|  18464|  18608|  18714|  18822|  18903|  19015|  19080|  19138| 19224| 19336| 19415| 19479| 19538| 19574| 19615| 19688| 19739|  19767|  19800|  19835|  19872|  19911|  19943|  19970|  20012|  20034|  20042|  20051|  20076|  20100|  20105|  20118|  20130|  20145|  20149|  20158|  20169|  20183|  20189|  20197|  20209|  20220|  20233|  20237|  20247|  20257|  20269|   20281|   20295|   20307|   20311|   20315|   20317|   20317|   20319|   20319|   20320|   20323|   20329|   20330|   20336|   20343|   20342|   20341|   20342|   20344|   20347|   20347|   20346|  20345|  20345|  20345|  20345|  20345|  20345|  20345|  20345|  20345|   20345|   20345|   20345|   20345|   20345|   20345|   20345|   20345|   20345|   20345|   20345|   20345|   20345|   20345|   20345|   20345|   20345|   20345|   20345|   20345|   20345|  20345|  20345|  20345|  20345|  20345|  20345|  20345|  20345|  20345|   20345|   20350|   20351|   20352|   20352|   20352|   20351|   20352|   20354|   20356|   20357|   20360|   20361|   20361|   20361|   20361|   20362|   20364|   20364|   20365|   20368|   20376|  20388|  20391|  20395|  20399|  20402|  20402|  20403|  20404|  20410|  20411|  20411|  20414|  20414|  20414|  20417|  20424|  20428|  20432|  20433|  20433|  20434|  20437|  20436|  20442|  20443|  20444|  20447|  20448|  20448|  20448|  20449|  20450|  20449|  20452|  20456|  20456|  20456|  20456|  20456|  20458|  20460|  20465|  20466|  20469|  20471|  20475|  20475|  20476|  20479|  20479|  20479|  20479|  20479|  20479|  20479|  20481|  20481|  20481|  20481|  20481|  20481|  20481|  20481|  20482|  20481|  20482|  20483|  20483|  20483|  20483|  20483|  20483|  20483|  20483|  20483|  20483|  20483|  20483|  20483|  20483|  20483|  20483|  20483|  20483|  20483|  20483|  20484|  20484|  20484|  20484|  20484|  20484|  20484|  20484|  20484|  20484|  20484|  20484|  20485|  20485|  20487|  20487|  20487|  20492|  20492|  20494|  20494|  20498|  20499|  20502|  20504|  20506|  20508|  20509|  20509|  20513|  20515|  20516|  20518|  20521|  20522|  20523|  20524|  20524|  20526|  20526|  20527|  20533|  20535|  20536|  20537|  20538|  20539|  20540|  20544|  20545|  20545|  20546|\n",
            "|   Western Australia|          Australia| -31.9505|  115.8605|      0|      0|      0|      0|      0|      0|      0|      0|      0|      0|     0|     0|     0|     0|     0|     0|     0|     0|     0|      0|      0|      0|      0|      0|      0|      0|      0|      0|      0|      0|      0|      0|      0|      0|      0|      0|      0|      0|      2|     2|     2|     2|     2|     3|     3|     3|     3|     4|      6|      9|      9|     14|     17|     17|     28|     31|     35|     52|     64|     90|    120|    140|    175|    175|    231|    231|    278|    311|    355|    364|   392|   400|   400|   436|   453|   460|   460|   481|   495|    506|    514|    514|    517|    527|    527|    532|    541|    544|    545|    545|    546|    546|    546|    548|    549|    549|    549|    550|    551|    551|   551|   551|   551|   551|   551|   551|   552|   552|   552|    552|    553|    553|    552|    552|    552|    553|    554|    557|    557|    557|    557|    557|    560|    560|    564|    570|    570|    577|    585|    586|    589|   591|   592|   592|   592|   596|   599|   599|   599|   599|    601|    602|    602|    602|    602|    602|    602|    603|    603|    604|    605|    605|    607|    607|    608|    608|    608|    609|    609|    611|    611|   611|   611|   611|   612|   618|   621|   624|   624|   627|    634|    635|    635|    636|    636|    646|    646|    651|    651|    651|    651|    651|    651|    654|    656|    658|    658|    659|    661|    661|    665|    666|   641|   669|   669|   670|   670|   642|   642|   642|   642|    642|    642|    644|    645|    646|    646|    646|    647|    647|    651|    651|    651|    652|    652|    653|    653|    653|    655|    655|    655|    655|    655|   655|   655|   655|   655|   655|   656|   658|   658|   659|    659|    659|    659|    659|    659|    659|    661|    661|    661|    662|    662|    665|    665|    665|    668|    668|    676|    676|    676|    684|    685|    685|    686|    686|    686|    687|    687|    690|    690|    692|     694|     694|     696|     703|     704|     709|     709|     711|     714|     714|     738|     739|     747|     753|     757|     762|     762|     765|     765|     766|     767|     769|    769|    770|    771|    771|    775|    776|    776|    776|    776|     776|     776|     776|     776|     783|     787|     788|     794|     794|     796|     797|     799|     804|     804|     808|     817|     817|     817|     818|     818|     821|    823|    823|    825|    828|    830|    830|    831|    832|    832|     834|     835|     836|     836|     838|     842|     843|     844|     845|     845|     846|     846|     846|     847|     848|     854|     853|     858|     858|     859|     859|     861|    863|    867|    868|    869|    872|    874|    874|    874|    875|    877|    878|    879|    881|    884|    886|    887|    887|    888|    888|    888|    890|    890|    894|    894|    895|    897|    898|    898|    902|    903|    903|    903|    904|    906|    907|    907|    907|    907|    907|    909|    910|    910|    910|    910|    910|    910|    910|    910|    910|    910|    911|    912|    913|    913|    913|    913|    913|    913|    913|    913|    914|    914|    914|    916|    916|    919|    920|    921|    922|    922|    923|    924|    925|    926|    927|    927|    929|    930|    930|    931|    931|    932|    934|    934|    934|    935|    938|    938|    942|    944|    944|    944|    947|    948|    950|    951|    951|    951|    951|    953|    954|    957|    964|    965|    966|    967|    973|    975|    978|    980|    982|    982|    982|    984|    986|    990|    994|    998|    998|   1000|   1005|   1008|   1008|   1010|   1013|   1013|   1013|   1013|   1013|   1015|   1015|   1015|   1015|   1015|   1015|   1015|   1015|   1015|\n",
            "|                null|            Austria|  47.5162|   14.5501|      0|      0|      0|      0|      0|      0|      0|      0|      0|      0|     0|     0|     0|     0|     0|     0|     0|     0|     0|      0|      0|      0|      0|      0|      0|      0|      0|      0|      0|      0|      0|      0|      0|      0|      2|      2|      3|      3|      9|    14|    18|    21|    29|    41|    55|    79|   104|   131|    182|    246|    302|    504|    655|    860|   1018|   1332|   1646|   2013|   2388|   2814|   3582|   4474|   5283|   5588|   6909|   7657|   8271|   8788|   9618|  10180| 10711| 11129| 11524| 11781| 12051| 12297| 12639| 12942| 13244|  13555|  13806|  13945|  14041|  14226|  14336|  14476|  14595|  14671|  14749|  14795|  14873|  14925|  15002|  15071|  15148|  15225|  15274|  15357|  15402|  15452| 15531| 15558| 15597| 15621| 15650| 15684| 15752| 15774| 15833|  15871|  15882|  15961|  15997|  16058|  16109|  16201|  16242|  16269|  16321|  16353|  16404|  16436|  16486|  16503|  16539|  16557|  16591|  16628|  16655|  16685|  16731| 16733| 16759| 16771| 16805| 16843| 16898| 16902| 16968| 16979|  17005|  17034|  17064|  17078|  17109|  17135|  17189|  17203|  17223|  17271|  17323|  17341|  17380|  17408|  17449|  17477|  17522|  17580|  17654|  17723|  17766| 17873| 17941| 18050| 18165| 18280| 18365| 18421| 18513| 18615|  18709|  18783|  18897|  18948|  19021|  19154|  19270|  19439|  19573|  19655|  19743|  19827|  19929|  20099|  20214|  20338|  20472|  20558|  20677|  20850|  20955|  21130| 21212| 21304| 21385| 21481| 21566| 21696| 21837| 21919| 22033|  22106|  22245|  22439|  22594|  22876|  23179|  23370|  23534|  23829|  24084|  24431|  24762|  25062|  25253|  25495|  25706|  26033|  26361|  26590|  26985|  27166|  27438| 27642| 27969| 28372| 28729| 29087| 29271| 29561| 30081| 30583|  31247|  31827|  32696|  33159|  33541|  34305|  35073|  35853|  36661|  37474|  38095|  38658|  39303|  39984|  40816|  41500|  42214|  42876|  43432|  44041|  44813|  45686|  46374|  47432|  48146|  48896|  49819|  50848|  52057|  53188|   54423|   55319|   56298|   57326|   58672|   60224|   61387|   63134|   64806|   65927|   67451|   69409|   71844|   74415|   78029|   80811|   83267|   86102|   89496|   93949|   99576|  104925| 109881| 114016| 118198| 125099| 132515| 138979| 147220| 153153| 158746|  164866|  172380|  181642|  191228|  198291|  203956|  208613|  214597|  221688|  228683|  235351|  241962|  247188|  250333|  254710|  260512|  266038|  270992|  275661|  279708|  282456| 285489| 289461| 293430| 297245| 300689| 303430| 305693| 308070| 311002|  313688|  316581|  319822|  322463|  325051|  327679|  330343|  332828|  334913|  337209|  338854|  340373|  342226|  344357|  347204|  349055|  350484|  351892|  353484|  355352|  357902|  360815| 362911| 364302| 365768| 367410| 369721| 372190| 374730| 376793| 379071| 380722| 382258| 383833| 385750| 389260| 390788| 392511| 393778| 394939| 396425| 398096| 399798| 401886| 403512| 404714| 405723| 407140| 408781| 410230| 411730| 413208| 414398| 415522| 416763| 418283| 419801| 421189| 422522| 423839| 424896| 426093| 427562| 429139| 430870| 432303| 433487| 434712| 436139| 437874| 439841| 441659| 443536| 445374| 446644| 448371| 450376| 452767| 454860| 457317| 459440| 460849| 462769| 465322| 467646| 470314| 472871| 475070| 476980| 479391| 481919| 484916| 488042| 491065| 493568| 495464| 497889| 501224| 504581| 508096| 511440| 514153| 516565| 519980| 523269| 526393| 530288| 533786| 536465| 539541| 542542| 546229| 549592| 552729| 556012| 558755| 560972| 562907| 566008| 568914| 571616| 574755| 577007| 578950| 581263| 584205| 586883| 589299| 591347| 593423| 595540| 597566| 600089| 602494| 604823| 606954| 608979| 610545| 612170| 614510| 616739| 618870| 620485| 622110| 623201| 624595| 626239| 627484| 628817| 630050| 631076| 631896| 632766| 633960| 634893| 635780| 636424| 637097| 637573| 638155|\n",
            "|                null|         Azerbaijan|  40.1431|   47.5769|      0|      0|      0|      0|      0|      0|      0|      0|      0|      0|     0|     0|     0|     0|     0|     0|     0|     0|     0|      0|      0|      0|      0|      0|      0|      0|      0|      0|      0|      0|      0|      0|      0|      0|      0|      0|      0|      0|      0|     3|     3|     3|     3|     6|     6|     9|     9|     9|     11|     11|     11|     15|     15|     23|     28|     28|     28|     44|     44|     53|     65|     72|     87|     93|    122|    165|    182|    209|    273|    298|   359|   400|   443|   521|   584|   641|   717|   822|   926|    991|   1058|   1098|   1148|   1197|   1253|   1283|   1340|   1373|   1398|   1436|   1480|   1518|   1548|   1592|   1617|   1645|   1678|   1717|   1766|   1804|  1854|  1894|  1932|  1984|  2060|  2127|  2204|  2279|  2422|   2519|   2589|   2693|   2758|   2879|   2980|   3138|   3274|   3387|   3518|   3631|   3749|   3855|   3982|   4122|   4271|   4403|   4568|   4759|   4989|   5246|   5494|  5662|  5935|  6260|  6522|  6860|  7239|  7553|  7876|  8191|   8530|   8882|   9218|   9570|   9957|  10324|  10662|  10991|  11329|  11767|  12238|  12729|  13207|  13715|  14305|  14852|  15369|  15890|  16424|  16968|  17524| 18112| 18684| 19267| 19801| 20324| 20837| 21374| 21916| 22464|  22990|  23521|  24041|  24570|  25113|  25672|  26165|  26636|  27133|  27521|  27890|  28242|  28633|  28980|  29312|  29633|  30050|  30446|  30858|  31221|  31560|  31878| 32157| 32443| 32684| 32910| 33103| 33247| 33376| 33481| 33568|  33647|  33731|  33824|  33915|  34018|  34107|  34219|  34343|  34474|  34620|  34759|  34921|  35105|  35274|  35426|  35559|  35707|  35844|  35986|  36174|  36309|  36435| 36578| 36732| 36899| 37031| 37192| 37329| 37418| 37557| 37732|  37874|  38037|  38172|  38327|  38403|  38517|  38658|  38777|  38894|  39042|  39188|  39280|  39378|  39524|  39686|  39787|  39895|  40023|  40061|  40119|  40229|  40309|  40453|  40561|  40691|  40788|  40931|  41113|  41304|  41519|   41752|   41982|   42104|   42381|   42750|   43280|   43789|   44317|   44964|   45295|   45879|   46593|   47418|   48221|   49013|   49959|   50486|   51149|   52137|   53152|   54174|   55269|  56444|  57040|  58282|  59509|  60873|  62338|  63748|  65411|  66046|   67392|   68594|   70216|   71580|   73429|   75688|   77083|   79158|   81397|   83994|   87163|   89898|   93094|   95281|   98927|  102396|  106101|  109813|  114025|  118195|  121176| 125602| 129544| 133733| 138000| 142323| 146679| 149765| 154152| 158555|  162774|  167155|  171423|  175874|  178986|  183259|  187336|  191460|  195422|  199127|  202088|  203593|  205877|  208211|  210061|  211764|  213192|  214711|  215483|  216584|  217636|  218700| 219041| 219462| 220265| 220599| 221401| 222200| 222885| 223417| 224050| 224651| 224827| 225346| 225820| 226200| 226549| 226951| 227273| 227391| 227696| 228028| 228246| 228526| 228688| 228975| 229032| 229358| 229584| 229793| 229935| 230066| 230219| 230296| 230455| 230617| 230769| 230907| 231022| 231154| 231198| 231362| 231509| 231649| 231840| 231995| 232123| 232197| 232337| 232491| 232636| 232829| 232973| 233129| 233201| 233424| 233644| 233770| 233989| 234267| 234537| 234662| 235014| 235333| 235647| 236012| 236365| 236768| 236963| 237260| 237775| 238383| 238959| 239692| 240295| 240671| 241651| 242491| 243424| 244303| 245490| 246304| 246974| 248307| 249492| 250921| 252680| 254370| 256201| 257330| 259476| 261713| 263961| 266322| 268174| 270735| 271834| 273869| 276464| 279181| 281387| 283579| 285993| 287144| 289601| 291894| 294211| 296374| 298522| 300666| 301661| 303858| 305933| 307980| 309789| 311465| 313006| 313812| 315119| 316521| 317913| 319109| 320322| 321380| 321798| 322761| 323841| 324685| 325407| 326056| 326716| 327087| 327601| 328159| 328668| 328994| 329371| 329843| 330269| 330701|\n",
            "|                null|            Bahamas|25.025885|-78.035889|      0|      0|      0|      0|      0|      0|      0|      0|      0|      0|     0|     0|     0|     0|     0|     0|     0|     0|     0|      0|      0|      0|      0|      0|      0|      0|      0|      0|      0|      0|      0|      0|      0|      0|      0|      0|      0|      0|      0|     0|     0|     0|     0|     0|     0|     0|     0|     0|      0|      0|      0|      0|      0|      0|      1|      1|      1|      3|      3|      4|      4|      4|      5|      5|      9|     10|     10|     11|     14|     14|    21|    24|    24|    28|    28|    29|    33|    40|    41|     42|     46|     46|     47|     49|     49|     53|     54|     55|     55|     60|     65|     65|     72|     73|     78|     80|     80|     80|     80|     81|    81|    83|    83|    83|    89|    92|    92|    92|    92|     92|     93|     93|     94|     96|     96|     96|     96|     96|     96|     97|     97|     97|    100|    100|    100|    100|    100|    101|    102|    102|    102|   102|   102|   102|   102|   102|   103|   103|   103|   103|    103|    103|    103|    103|    103|    103|    104|    104|    104|    104|    104|    104|    104|    104|    104|    104|    104|    104|    104|    104|    104|   104|   104|   104|   104|   104|   104|   104|   106|   107|    108|    111|    111|    113|    116|    119|    124|    129|    138|    153|    174|    194|    219|    274|    316|    326|    342|    382|    447|    484|    508|    574|   599|   648|   679|   715|   751|   761|   830|   878|   898|    945|    989|   1036|   1089|   1119|   1252|   1315|   1329|   1424|   1531|   1610|   1703|   1765|   1784|   1798|   1813|   1923|   2020|   2057|   2135|   2167|   2217|  2276|  2337|  2386|  2386|  2476|  2506|  2546|  2585|  2721|   2721|   2814|   2928|   2928|   3008|   3032|   3087|   3177|   3177|   3214|   3315|   3418|   3467|   3618|   3699|   3790|   3790|   3838|   3838|   3903|   4123|   4123|   4220|   4332|   4409|   4452|   4559|   4713|   4713|   4713|    5023|    5078|    5163|    5163|    5191|    5385|    5517|    5628|    5703|    5773|    5923|    6051|    6135|    6268|    6268|    6410|    6410|    6502|    6549|    6607|    6644|    6714|   6714|   6735|   6790|   6843|   6882|   6882|   6947|   6947|   6964|    7012|    7060|    7124|    7163|    7163|    7186|    7256|    7312|    7323|    7348|    7367|    7395|    7413|    7431|    7460|    7469|    7482|    7496|    7496|    7517|    7541|   7543|   7543|   7549|   7565|   7570|   7570|   7579|   7579|   7585|    7585|    7623|    7648|    7659|    7674|    7698|    7714|    7725|    7733|    7733|    7746|    7765|    7772|    7788|    7788|    7788|    7788|    7834|    7834|    7846|    7857|    7871|   7887|   7887|   7914|   7924|   7928|   7945|   7959|   7969|   7969|   7969|   8004|   8004|   8011|   8011|   8021|   8032|   8032|   8067|   8068|   8075|   8088|   8101|   8101|   8101|   8133|   8140|   8161|   8161|   8167|   8174|   8174|   8174|   8223|   8231|   8247|   8256|   8256|   8256|   8289|   8289|   8289|   8311|   8311|   8311|   8311|   8311|   8383|   8383|   8403|   8403|   8403|   8403|   8471|   8477|   8496|   8496|   8519|   8519|   8519|   8519|   8519|   8573|   8573|   8600|   8600|   8600|   8600|   8642|   8642|   8642|   8658|   8658|   8658|   8765|   8776|   8800|   8800|   8800|   8800|   8800|   8923|   8935|   8935|   8935|   8935|   8935|   8935|   9000|   9119|   9119|   9171|   9171|   9171|   9171|   9171|   9270|   9296|   9339|   9364|   9364|   9364|   9460|   9505|   9505|   9505|   9634|   9634|   9634|   9791|   9791|   9868|   9868|   9976|   9976|  10050|  10220|  10220|  10349|  10349|  10453|  10453|  10519|  10576|  10576|  10576|  10711|  10773|  10773|  10773|  10908|  10908|  10966|  11024|  11024|  11024|  11024|  11225|  11278|\n",
            "|                null|            Bahrain|  26.0275|     50.55|      0|      0|      0|      0|      0|      0|      0|      0|      0|      0|     0|     0|     0|     0|     0|     0|     0|     0|     0|      0|      0|      0|      0|      0|      0|      0|      0|      0|      0|      0|      0|      0|      0|      1|     23|     33|     33|     36|     41|    47|    49|    49|    52|    55|    60|    85|    85|    95|    110|    195|    195|    195|    210|    214|    214|    228|    256|    278|    285|    305|    334|    377|    392|    419|    458|    466|    476|    499|    515|    567|   569|   643|   672|   688|   700|   756|   811|   823|   887|    925|   1040|   1136|   1361|   1528|   1671|   1700|   1740|   1773|   1881|   1907|   1973|   2027|   2217|   2518|   2588|   2647|   2723|   2811|   2921|   3040|  3170|  3284|  3383|  3533|  3720|  3934|  4199|  4444|  4774|   4941|   5236|   5531|   5816|   6198|   6583|   6747|   6956|   7184|   7532|   7888|   8174|   8414|   8802|   9138|   9171|   9366|   9692|  10052|  10449|  10793|  11398| 11871| 12311| 12815| 13296| 13835| 14383| 14763| 15417| 15731|  16200|  16667|  17269|  17713|  18227|  19013|  19553|  19961|  20430|  20916|  21331|  21764|  22407|  23062|  23570|  24081|  24805|  25267|  25705|  26239|  26758| 27414| 27837| 28410| 28857| 29367| 29821| 30321| 30931| 31528|  32039|  32470|  32941|  33476|  34078|  34560|  35084|  35473|  36004|  36422|  36936|  37316|  37637|  37996|  38458|  38747|  39131|  39482|  39921|  40311|  40755|  40982| 41190| 41536| 41835| 42132| 42514| 42889| 43307| 43629| 44011|  44397|  44804|  45264|  45726|  46052|  46430|  46835|  47185|  47581|  47950|  48303|  48661|  49038|  49330|  49719|  50076|  50393|  50756|  51113|  51391|  51574|  51972| 52440| 52807| 53433| 54095| 54771| 55415| 56076| 56778| 57450|  58207|  58839|  59586|  60307|  60965|  61643|  62484|  63189|  63879|  64499|  65039|  65752|  66402|  67014|  67701|  68190|  68775|  69361|  69848|  70422|  70864|  71374|  71803|  72310|  72662|  73116|  73476|  73932|  74422|  74860|   75287|   75614|   75948|   76272|   76621|   76954|   77325|   77571|   77902|   78224|   78533|   78907|   79211|   79574|   79975|   80255|   80533|   80765|   81022|   81262|   81466|   81645|  81923|  82133|  82363|  82624|  82786|  83023|  83264|  83456|  83632|   83811|   84042|   84192|   84349|   84523|   84703|   84882|   85008|   85182|   85317|   85467|   85591|   85705|   85886|   86016|   86185|   86347|   86515|   86645|   86787|   86956|  87137|  87270|  87432|  87600|  87732|  87930|  88111|  88294|  88495|   88632|   88820|   88965|   89143|   89268|   89444|   89600|   89743|   89883|   90062|   90282|   90450|   90634|   90817|   91070|   91304|   91518|   91733|   91935|   92169|   92425|   92675|  92913|  93184|  93478|  93766|  93995|  94284|  94633|  95030|  95317|  95558|  95879|  96195|  96470|  96812|  97020|  97268|  97607|  97940|  98260|  98573|  98878|  99210|  99456|  99817| 100230| 100689| 101116| 101503| 101971| 102626| 103057| 103582| 104239| 104792| 105496| 106198| 106713| 107329| 108048| 108807| 109604| 110416| 111312| 112102| 112742| 113590| 114361| 115057| 115705| 116482| 117234| 117809| 118530| 119205| 119858| 120495| 121127| 121778| 122394| 123039| 123531| 124269| 124857| 125514| 126126| 126602| 127255| 127800| 128428| 129081| 129825| 130404| 131001| 131683| 132369| 133137| 133779| 134510| 135326| 135982| 136741| 137550| 138283| 139124| 139953| 140818| 141845| 142669| 143574| 144445| 145380| 146454| 147770| 148817| 149791| 150811| 151931| 153074| 154280| 155402| 156462| 157729| 158789| 159964| 160934| 162089| 163113| 164110| 165118| 166157| 167165| 168201| 169254| 170335| 171370| 172576| 173548| 174659| 175752| 176934| 177997| 179297| 180462| 181880| 183330| 184697| 186403| 187905| 189356| 191018| 192750| 194289| 196105| 197474| 199093| 200977| 202556| 204524|\n",
            "+--------------------+-------------------+---------+----------+-------+-------+-------+-------+-------+-------+-------+-------+-------+-------+------+------+------+------+------+------+------+------+------+-------+-------+-------+-------+-------+-------+-------+-------+-------+-------+-------+-------+-------+-------+-------+-------+-------+-------+-------+-------+------+------+------+------+------+------+------+------+------+-------+-------+-------+-------+-------+-------+-------+-------+-------+-------+-------+-------+-------+-------+-------+-------+-------+-------+-------+-------+-------+-------+------+------+------+------+------+------+------+------+------+-------+-------+-------+-------+-------+-------+-------+-------+-------+-------+-------+-------+-------+-------+-------+-------+-------+-------+-------+-------+-------+------+------+------+------+------+------+------+------+------+-------+-------+-------+-------+-------+-------+-------+-------+-------+-------+-------+-------+-------+-------+-------+-------+-------+-------+-------+-------+-------+-------+------+------+------+------+------+------+------+------+------+-------+-------+-------+-------+-------+-------+-------+-------+-------+-------+-------+-------+-------+-------+-------+-------+-------+-------+-------+-------+-------+------+------+------+------+------+------+------+------+------+-------+-------+-------+-------+-------+-------+-------+-------+-------+-------+-------+-------+-------+-------+-------+-------+-------+-------+-------+-------+-------+-------+------+------+------+------+------+------+------+------+------+-------+-------+-------+-------+-------+-------+-------+-------+-------+-------+-------+-------+-------+-------+-------+-------+-------+-------+-------+-------+-------+-------+------+------+------+------+------+------+------+------+------+-------+-------+-------+-------+-------+-------+-------+-------+-------+-------+-------+-------+-------+-------+-------+-------+-------+-------+-------+-------+-------+-------+-------+-------+-------+-------+-------+-------+-------+-------+--------+--------+--------+--------+--------+--------+--------+--------+--------+--------+--------+--------+--------+--------+--------+--------+--------+--------+--------+--------+--------+--------+-------+-------+-------+-------+-------+-------+-------+-------+-------+--------+--------+--------+--------+--------+--------+--------+--------+--------+--------+--------+--------+--------+--------+--------+--------+--------+--------+--------+--------+--------+-------+-------+-------+-------+-------+-------+-------+-------+-------+--------+--------+--------+--------+--------+--------+--------+--------+--------+--------+--------+--------+--------+--------+--------+--------+--------+--------+--------+--------+--------+--------+-------+-------+-------+-------+-------+-------+-------+-------+-------+-------+-------+-------+-------+-------+-------+-------+-------+-------+-------+-------+-------+-------+-------+-------+-------+-------+-------+-------+-------+-------+-------+-------+-------+-------+-------+-------+-------+-------+-------+-------+-------+-------+-------+-------+-------+-------+-------+-------+-------+-------+-------+-------+-------+-------+-------+-------+-------+-------+-------+-------+-------+-------+-------+-------+-------+-------+-------+-------+-------+-------+-------+-------+-------+-------+-------+-------+-------+-------+-------+-------+-------+-------+-------+-------+-------+-------+-------+-------+-------+-------+-------+-------+-------+-------+-------+-------+-------+-------+-------+-------+-------+-------+-------+-------+-------+-------+-------+-------+-------+-------+-------+-------+-------+-------+-------+-------+-------+-------+-------+-------+-------+-------+-------+-------+-------+-------+-------+-------+-------+-------+-------+-------+-------+-------+-------+-------+-------+-------+\n",
            "only showing top 20 rows\n",
            "\n"
          ]
        }
      ]
    },
    {
      "cell_type": "markdown",
      "metadata": {
        "id": "WV45mAMfrmxA"
      },
      "source": [
        "### Analyzing COVID-19 timeseries data"
      ]
    },
    {
      "cell_type": "markdown",
      "metadata": {
        "id": "4wYiCEv_zhVf"
      },
      "source": [
        "Consider the entries for May 1, 2021, in the timeseries, and compute:\n",
        "\n",
        "\n",
        "*   number of confirmed COVID-19 cases across the globe\n",
        "*   number of deaths due to COVID-19 (across the globe)\n",
        "*   number of recovered patients across the globe\n",
        "\n"
      ]
    },
    {
      "cell_type": "code",
      "metadata": {
        "colab": {
          "base_uri": "https://localhost:8080/"
        },
        "id": "YMDQ0UgE6BON",
        "outputId": "37de3080-54ae-440a-9814-8b39ce64a9d4"
      },
      "source": [
        "def list_sum(l):\n",
        "  sum = 0\n",
        "  for x in l:\n",
        "    sum += int(x)\n",
        "  return sum\n",
        "confirmed_list = confirmed.select('3/5/20').rdd.flatMap(lambda x: x).collect()\n",
        "deaths_list = deaths.select('3/5/20').rdd.flatMap(lambda x: x).collect()\n",
        "recovered_list = recovered.select('3/5/20').rdd.flatMap(lambda x: x).collect()\n",
        "\n",
        "print(\"number of confirmed COVID-19 cases across the globe is: {}\".format(list_sum(confirmed_list)))\n",
        "print(\"number of deaths due to COVID-19 cases across the globe is: {}\".format(list_sum(deaths_list)))\n",
        "print(\"number of recovered patients across the globe is: {}\".format(list_sum(recovered_list)))"
      ],
      "execution_count": 22,
      "outputs": [
        {
          "output_type": "stream",
          "name": "stdout",
          "text": [
            "number of confirmed COVID-19 cases across the globe is: 98090\n",
            "number of deaths due to COVID-19 cases across the globe is: 3349\n",
            "number of recovered patients across the globe is: 53795\n"
          ]
        }
      ]
    },
    {
      "cell_type": "markdown",
      "metadata": {
        "id": "yahkAHoS0HuU"
      },
      "source": [
        "Consider only the most recent data points for March 1, 2020, and March 1, 2021 in the timeseries, and filter out the geographical locations where less than 50 cases have been confirmed. For the areas still taken into consideration after the filtering step, compute the ratio between number of recovered patients and number of confirmed cases."
      ]
    },
    {
      "cell_type": "code",
      "metadata": {
        "id": "8FwzsH4l1VCZ"
      },
      "source": [
        "confirmed_list = confirmed.select('Province/State', 'Country/Region', col('3/5/20').alias('confirmed'))\n",
        "deaths_list = deaths.select('Province/State', 'Country/Region', col('3/5/20').alias('deaths'))\n",
        "recovered_list = recovered.select('Province/State', 'Country/Region', col('3/5/20').alias('recovered'))\n",
        "result = confirmed_list.join(deaths_list, ['Province/State', 'Country/Region'])\n",
        "result = result.join(recovered_list, ['Province/State', 'Country/Region'])\n",
        "result = result.withColumn(\"%recovered\", result.recovered / result.confirmed)\n",
        "result = result.withColumn(\"%deaths\", result.deaths / result.confirmed)\n"
      ],
      "execution_count": 24,
      "outputs": []
    },
    {
      "cell_type": "markdown",
      "metadata": {
        "id": "MLBtZyFqPKkI"
      },
      "source": [
        "Following the same filtering strategy as above, I am now computing the ratio between number of deaths and number of confirmed cases."
      ]
    },
    {
      "cell_type": "code",
      "metadata": {
        "id": "FUWisUyMPI9A",
        "colab": {
          "base_uri": "https://localhost:8080/"
        },
        "outputId": "49bf87f2-1fca-4c24-8756-0d38f6f354d7"
      },
      "source": [
        "result = result.filter(result.confirmed >= 50).sort(\"%recovered\", ascending = False)\n",
        "result.show()"
      ],
      "execution_count": 25,
      "outputs": [
        {
          "output_type": "stream",
          "name": "stdout",
          "text": [
            "+--------------+--------------+---------+------+---------+------------------+--------------------+\n",
            "|Province/State|Country/Region|confirmed|deaths|recovered|        %recovered|             %deaths|\n",
            "+--------------+--------------+---------+------+---------+------------------+--------------------+\n",
            "|         Anhui|         China|      990|     6|      970|0.9797979797979798|0.006060606060606061|\n",
            "|         Henan|         China|     1272|    22|     1239|0.9740566037735849| 0.01729559748427673|\n",
            "|        Yunnan|         China|      174|     2|      169|0.9712643678160919|0.011494252873563218|\n",
            "|       Jiangxi|         China|      935|     1|      901|0.9636363636363636|0.001069518716577...|\n",
            "|         Hebei|         China|      318|     6|      304|0.9559748427672956|0.018867924528301886|\n",
            "|        Shanxi|         China|      133|     0|      126|0.9473684210526315|                 0.0|\n",
            "|         Jilin|         China|       93|     1|       88| 0.946236559139785|0.010752688172043012|\n",
            "|       Tianjin|         China|      136|     3|      128|0.9411764705882353|0.022058823529411766|\n",
            "|        Hainan|         China|      168|     6|      158|0.9404761904761905| 0.03571428571428571|\n",
            "|        Fujian|         China|      296|     1|      277|0.9358108108108109|0.003378378378378...|\n",
            "|      Zhejiang|         China|     1215|     1|     1124|0.9251028806584363|8.230452674897119E-4|\n",
            "|       Jiangsu|         China|      631|     0|      583|0.9239302694136292|                 0.0|\n",
            "|         Hunan|         China|     1018|     4|      938|0.9214145383104125|0.003929273084479371|\n",
            "|      Xinjiang|         China|       76|     3|       70|0.9210526315789473|0.039473684210526314|\n",
            "|       Ningxia|         China|       75|     0|       69|              0.92|                 0.0|\n",
            "|       Shaanxi|         China|      245|     1|      224|0.9142857142857143|0.004081632653061225|\n",
            "|      Shanghai|         China|      339|     3|      303|0.8938053097345132|0.008849557522123894|\n",
            "|     Chongqing|         China|      576|     6|      512|0.8888888888888888|0.010416666666666666|\n",
            "|     Guangdong|         China|     1351|     7|     1181|0.8741672834937083|0.005181347150259...|\n",
            "|Inner Mongolia|         China|       75|     1|       65|0.8666666666666667|0.013333333333333334|\n",
            "+--------------+--------------+---------+------+---------+------------------+--------------------+\n",
            "only showing top 20 rows\n",
            "\n"
          ]
        }
      ]
    },
    {
      "cell_type": "code",
      "metadata": {
        "colab": {
          "base_uri": "https://localhost:8080/"
        },
        "id": "wcY-8lpi6BOP",
        "outputId": "46bf8379-7862-4957-aa97-b407879772c3"
      },
      "source": [
        "result = result.filter(result.confirmed >= 50).sort(\"%deaths\", ascending = False)\n",
        "result.show()"
      ],
      "execution_count": 27,
      "outputs": [
        {
          "output_type": "stream",
          "name": "stdout",
          "text": [
            "+--------------+--------------+---------+------+---------+------------------+--------------------+\n",
            "|Province/State|Country/Region|confirmed|deaths|recovered|        %recovered|             %deaths|\n",
            "+--------------+--------------+---------+------+---------+------------------+--------------------+\n",
            "|         Hubei|         China|    67466|  2902|    40592|0.6016660243678297| 0.04301425903418018|\n",
            "|      Xinjiang|         China|       76|     3|       70|0.9210526315789473|0.039473684210526314|\n",
            "|        Hainan|         China|      168|     6|      158|0.9404761904761905| 0.03571428571428571|\n",
            "|  Heilongjiang|         China|      481|    13|      379|0.7879417879417879| 0.02702702702702703|\n",
            "|       Tianjin|         China|      136|     3|      128|0.9411764705882353|0.022058823529411766|\n",
            "|         Gansu|         China|      102|     2|       87|0.8529411764705882|  0.0196078431372549|\n",
            "|       Beijing|         China|      418|     8|      297|0.7105263157894737|0.019138755980861243|\n",
            "|     Hong Kong|         China|      105|     2|       43|0.4095238095238095| 0.01904761904761905|\n",
            "|         Hebei|         China|      318|     6|      304|0.9559748427672956|0.018867924528301886|\n",
            "|         Henan|         China|     1272|    22|     1239|0.9740566037735849| 0.01729559748427673|\n",
            "|       Guizhou|         China|      146|     2|      114|0.7808219178082192|  0.0136986301369863|\n",
            "|Inner Mongolia|         China|       75|     1|       65|0.8666666666666667|0.013333333333333334|\n",
            "|        Yunnan|         China|      174|     2|      169|0.9712643678160919|0.011494252873563218|\n",
            "|         Jilin|         China|       93|     1|       88| 0.946236559139785|0.010752688172043012|\n",
            "|     Chongqing|         China|      576|     6|      512|0.8888888888888888|0.010416666666666666|\n",
            "|      Shanghai|         China|      339|     3|      303|0.8938053097345132|0.008849557522123894|\n",
            "|      Liaoning|         China|      125|     1|      106|             0.848|               0.008|\n",
            "|       Guangxi|         China|      252|     2|      214|0.8492063492063492|0.007936507936507936|\n",
            "|      Shandong|         China|      758|     6|      578| 0.762532981530343|  0.0079155672823219|\n",
            "|         Anhui|         China|      990|     6|      970|0.9797979797979798|0.006060606060606061|\n",
            "+--------------+--------------+---------+------+---------+------------------+--------------------+\n",
            "only showing top 20 rows\n",
            "\n"
          ]
        }
      ]
    }
  ]
}